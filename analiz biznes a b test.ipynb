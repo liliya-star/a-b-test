{
 "cells": [
  {
   "cell_type": "markdown",
   "metadata": {},
   "source": [
    "<div style=\"border:solid Purple 2px; padding: 40px\">\n",
    "\n",
    "<b>Привет, Лилия!👋\n",
    "\n",
    "Меня зовут Эльвира, я буду ревьюером твоего проекта. Предлагаю общаться на «ты», но если это не удобно - дай мне знать, и мы перейдем на «вы».\n",
    "\n",
    "\n",
    "Ты можешь найти мои комментарии, обозначенные <font color='green'>зеленым</font>, <font color='gold'>желтым</font> и <font color='red'>красным</font> цветами, например:\n",
    "\n",
    "\n",
    "<div class=\"alert alert-success\">\n",
    "<h2> Комментарий ревьюера 😊<a class=\"tocSkip\"> </h2>\n",
    "    \n",
    "Такими комментариями я буду помечать отлично проделаную работу😉\n",
    "</div>\n",
    "    \n",
    "<div class=\"alert alert-warning\">\n",
    "<h2> Комментарий ревьюера 🤓<a class=\"tocSkip\"> </h2>\n",
    "        \n",
    "В таких комментариях я постараюсь подсказать тебе более элегантное или легкое решение, некоторые хитрости и фишки. Части проекта, помеченные такими комментариями, можно не исправлять, но рекомендую обратить на них внимание.</div>\n",
    "\n",
    "<div class=\"alert alert-block alert-danger\">\n",
    "<h2> Комментарий ревьюера 🤔<a class=\"tocSkip\"></h2>\n",
    "    \n",
    "В случае, когда решение на отдельном шаге требует существенной переработки и внесения правок. Если ты видишь такой комментарий, значит здесть есть недочет, который следует исправить.\n",
    "</div>\n",
    "\n",
    "Ты также можешь реагировать на мои комментарии своими, выделяя их цветами и наиболее понравившимся тебе способом оформления, но явно  отличающимся от моих комментариев. Это нужно, чтобы не создавалась путаница🙃\n",
    "    \n",
    "<div class=\"alert alert-info\"> <b>Комментарий студента:</b> Например, вот так.</div>\n",
    "\n",
    "Чтобы сделать подобный блок, кликни здесь дважды и скопируй всю предыдущую строку ;)\n",
    "    \n",
    "Пожалуйста, не удаляй и не перемещай мои комментарии, они будут особенно полезны для нашей работы в случае повторной проверки проекта.</div></b>"
   ]
  },
  {
   "cell_type": "markdown",
   "metadata": {},
   "source": [
    "Описание данных\n",
    "Данные для первой части\n",
    "Файл /datasets/hypothesis.csv. Скачать датасет\n",
    "Hypothesis — краткое описание гипотезы;\n",
    "Reach — охват пользователей по 10-балльной шкале;\n",
    "Impact — влияние на пользователей по 10-балльной шкале;\n",
    "Confidence — уверенность в гипотезе по 10-балльной шкале;\n",
    "Efforts — затраты ресурсов на проверку гипотезы по 10-балльной шкале. Чем больше значение Efforts, тем дороже проверка гипотезы.\n",
    "Данные для второй части\n",
    "Файл /datasets/orders.csv. Скачать датасет\n",
    "transactionId — идентификатор заказа;\n",
    "visitorId — идентификатор пользователя, совершившего заказ;\n",
    "date — дата, когда был совершён заказ;\n",
    "revenue — выручка заказа;\n",
    "group — группа A/B-теста, в которую попал заказ.\n",
    "Файл /datasets/visitors.csv. Скачать датасет\n",
    "date — дата;\n",
    "group — группа A/B-теста;\n",
    "visitors — количество пользователей в указанную дату в указанной группе A/B-теста\n"
   ]
  },
  {
   "cell_type": "markdown",
   "metadata": {},
   "source": [
    "Название проекта: Анализ гипотез для увеличения выручки интернет магазина."
   ]
  },
  {
   "cell_type": "markdown",
   "metadata": {},
   "source": [
    "Как аналитику крупного интернет-магазина перед нами стоит задача. Вместе с отделом маркетинга мы подготовили список гипотез для увеличения выручки. Нам предстоит провести приоритезацию гипотез, запустить A/B-тест и проанализировать результаты."
   ]
  },
  {
   "cell_type": "markdown",
   "metadata": {},
   "source": [
    "<div class=\"alert alert-success\">\n",
    "<h2> Комментарий ревьюера 😊<a class=\"tocSkip\"> </h2>\n",
    "    \n",
    "Очень здорово, что ты начинаешь проект с такого подробного введения, так держать!\n",
    "</div>"
   ]
  },
  {
   "cell_type": "markdown",
   "metadata": {},
   "source": [
    "Приоретизация гипотез"
   ]
  },
  {
   "cell_type": "markdown",
   "metadata": {},
   "source": [
    "Импортируем все необходимые библиотеки"
   ]
  },
  {
   "cell_type": "code",
   "execution_count": 40,
   "metadata": {},
   "outputs": [],
   "source": [
    "import pandas as pd\n",
    "import scipy.stats as stats\n",
    "import datetime as dt\n",
    "import numpy as np\n",
    "import matplotlib.pyplot as plt\n",
    "import seaborn as sns\n",
    "from scipy import stats as st"
   ]
  },
  {
   "cell_type": "markdown",
   "metadata": {},
   "source": [
    "<div class=\"alert alert-success\">\n",
    "<h2> Комментарий ревьюера 😊<a class=\"tocSkip\"> </h2>\n",
    "\n",
    "Молодец, что загружаешь все библиотеки в начале проекта. Так сложней случайно удалить ячейку с загрузкой нужной библиотеки и сделать код не работающим. А получатель отчета сразу поймет, какие библиотеки ты используешь и какие ему нужно установить для запуска проекта.\n"
   ]
  },
  {
   "cell_type": "code",
   "execution_count": 41,
   "metadata": {},
   "outputs": [
    {
     "data": {
      "text/html": [
       "<div>\n",
       "<style scoped>\n",
       "    .dataframe tbody tr th:only-of-type {\n",
       "        vertical-align: middle;\n",
       "    }\n",
       "\n",
       "    .dataframe tbody tr th {\n",
       "        vertical-align: top;\n",
       "    }\n",
       "\n",
       "    .dataframe thead th {\n",
       "        text-align: right;\n",
       "    }\n",
       "</style>\n",
       "<table border=\"1\" class=\"dataframe\">\n",
       "  <thead>\n",
       "    <tr style=\"text-align: right;\">\n",
       "      <th></th>\n",
       "      <th>Hypothesis</th>\n",
       "      <th>Reach</th>\n",
       "      <th>Impact</th>\n",
       "      <th>Confidence</th>\n",
       "      <th>Efforts</th>\n",
       "    </tr>\n",
       "  </thead>\n",
       "  <tbody>\n",
       "    <tr>\n",
       "      <th>0</th>\n",
       "      <td>Добавить два новых канала привлечения трафика, что позволит привлекать на 30% больше пользователей</td>\n",
       "      <td>3</td>\n",
       "      <td>10</td>\n",
       "      <td>8</td>\n",
       "      <td>6</td>\n",
       "    </tr>\n",
       "    <tr>\n",
       "      <th>1</th>\n",
       "      <td>Запустить собственную службу доставки, что сократит срок доставки заказов</td>\n",
       "      <td>2</td>\n",
       "      <td>5</td>\n",
       "      <td>4</td>\n",
       "      <td>10</td>\n",
       "    </tr>\n",
       "    <tr>\n",
       "      <th>2</th>\n",
       "      <td>Добавить блоки рекомендаций товаров на сайт интернет магазина, чтобы повысить конверсию и средний чек заказа</td>\n",
       "      <td>8</td>\n",
       "      <td>3</td>\n",
       "      <td>7</td>\n",
       "      <td>3</td>\n",
       "    </tr>\n",
       "    <tr>\n",
       "      <th>3</th>\n",
       "      <td>Изменить структура категорий, что увеличит конверсию, т.к. пользователи быстрее найдут нужный товар</td>\n",
       "      <td>8</td>\n",
       "      <td>3</td>\n",
       "      <td>3</td>\n",
       "      <td>8</td>\n",
       "    </tr>\n",
       "    <tr>\n",
       "      <th>4</th>\n",
       "      <td>Изменить цвет фона главной страницы, чтобы увеличить вовлеченность пользователей</td>\n",
       "      <td>3</td>\n",
       "      <td>1</td>\n",
       "      <td>1</td>\n",
       "      <td>1</td>\n",
       "    </tr>\n",
       "    <tr>\n",
       "      <th>5</th>\n",
       "      <td>Добавить страницу отзывов клиентов о магазине, что позволит увеличить количество заказов</td>\n",
       "      <td>3</td>\n",
       "      <td>2</td>\n",
       "      <td>2</td>\n",
       "      <td>3</td>\n",
       "    </tr>\n",
       "    <tr>\n",
       "      <th>6</th>\n",
       "      <td>Показать на главной странице баннеры с актуальными акциями и распродажами, чтобы увеличить конверсию</td>\n",
       "      <td>5</td>\n",
       "      <td>3</td>\n",
       "      <td>8</td>\n",
       "      <td>3</td>\n",
       "    </tr>\n",
       "    <tr>\n",
       "      <th>7</th>\n",
       "      <td>Добавить форму подписки на все основные страницы, чтобы собрать базу клиентов для email-рассылок</td>\n",
       "      <td>10</td>\n",
       "      <td>7</td>\n",
       "      <td>8</td>\n",
       "      <td>5</td>\n",
       "    </tr>\n",
       "    <tr>\n",
       "      <th>8</th>\n",
       "      <td>Запустить акцию, дающую скидку на товар в день рождения</td>\n",
       "      <td>1</td>\n",
       "      <td>9</td>\n",
       "      <td>9</td>\n",
       "      <td>5</td>\n",
       "    </tr>\n",
       "  </tbody>\n",
       "</table>\n",
       "</div>"
      ],
      "text/plain": [
       "                                                                                                     Hypothesis  \\\n",
       "0            Добавить два новых канала привлечения трафика, что позволит привлекать на 30% больше пользователей   \n",
       "1                                     Запустить собственную службу доставки, что сократит срок доставки заказов   \n",
       "2  Добавить блоки рекомендаций товаров на сайт интернет магазина, чтобы повысить конверсию и средний чек заказа   \n",
       "3           Изменить структура категорий, что увеличит конверсию, т.к. пользователи быстрее найдут нужный товар   \n",
       "4                              Изменить цвет фона главной страницы, чтобы увеличить вовлеченность пользователей   \n",
       "5                      Добавить страницу отзывов клиентов о магазине, что позволит увеличить количество заказов   \n",
       "6          Показать на главной странице баннеры с актуальными акциями и распродажами, чтобы увеличить конверсию   \n",
       "7              Добавить форму подписки на все основные страницы, чтобы собрать базу клиентов для email-рассылок   \n",
       "8                                                       Запустить акцию, дающую скидку на товар в день рождения   \n",
       "\n",
       "   Reach  Impact  Confidence  Efforts  \n",
       "0      3      10           8        6  \n",
       "1      2       5           4       10  \n",
       "2      8       3           7        3  \n",
       "3      8       3           3        8  \n",
       "4      3       1           1        1  \n",
       "5      3       2           2        3  \n",
       "6      5       3           8        3  \n",
       "7     10       7           8        5  \n",
       "8      1       9           9        5  "
      ]
     },
     "execution_count": 41,
     "metadata": {},
     "output_type": "execute_result"
    }
   ],
   "source": [
    "data = pd.read_csv('/datasets/hypothesis.csv', sep=',')\n",
    "data"
   ]
  },
  {
   "cell_type": "code",
   "execution_count": 42,
   "metadata": {},
   "outputs": [],
   "source": [
    "data.columns = data.columns.str.lower()"
   ]
  },
  {
   "cell_type": "markdown",
   "metadata": {},
   "source": [
    "Проведем приоритезацию гипотез с помощью фреймворка ICE (умножаем значимость для пользовательского опыта impact на нашу уверенность в этом confidence и делим на цену уровень стоимости проверки efforts)"
   ]
  },
  {
   "cell_type": "code",
   "execution_count": 43,
   "metadata": {},
   "outputs": [
    {
     "data": {
      "text/html": [
       "<div>\n",
       "<style scoped>\n",
       "    .dataframe tbody tr th:only-of-type {\n",
       "        vertical-align: middle;\n",
       "    }\n",
       "\n",
       "    .dataframe tbody tr th {\n",
       "        vertical-align: top;\n",
       "    }\n",
       "\n",
       "    .dataframe thead th {\n",
       "        text-align: right;\n",
       "    }\n",
       "</style>\n",
       "<table border=\"1\" class=\"dataframe\">\n",
       "  <thead>\n",
       "    <tr style=\"text-align: right;\">\n",
       "      <th></th>\n",
       "      <th>hypothesis</th>\n",
       "      <th>ICE</th>\n",
       "    </tr>\n",
       "  </thead>\n",
       "  <tbody>\n",
       "    <tr>\n",
       "      <th>8</th>\n",
       "      <td>Запустить акцию, дающую скидку на товар в день рождения</td>\n",
       "      <td>16.20</td>\n",
       "    </tr>\n",
       "    <tr>\n",
       "      <th>0</th>\n",
       "      <td>Добавить два новых канала привлечения трафика, что позволит привлекать на 30% больше пользователей</td>\n",
       "      <td>13.33</td>\n",
       "    </tr>\n",
       "    <tr>\n",
       "      <th>7</th>\n",
       "      <td>Добавить форму подписки на все основные страницы, чтобы собрать базу клиентов для email-рассылок</td>\n",
       "      <td>11.20</td>\n",
       "    </tr>\n",
       "    <tr>\n",
       "      <th>6</th>\n",
       "      <td>Показать на главной странице баннеры с актуальными акциями и распродажами, чтобы увеличить конверсию</td>\n",
       "      <td>8.00</td>\n",
       "    </tr>\n",
       "    <tr>\n",
       "      <th>2</th>\n",
       "      <td>Добавить блоки рекомендаций товаров на сайт интернет магазина, чтобы повысить конверсию и средний чек заказа</td>\n",
       "      <td>7.00</td>\n",
       "    </tr>\n",
       "    <tr>\n",
       "      <th>1</th>\n",
       "      <td>Запустить собственную службу доставки, что сократит срок доставки заказов</td>\n",
       "      <td>2.00</td>\n",
       "    </tr>\n",
       "    <tr>\n",
       "      <th>5</th>\n",
       "      <td>Добавить страницу отзывов клиентов о магазине, что позволит увеличить количество заказов</td>\n",
       "      <td>1.33</td>\n",
       "    </tr>\n",
       "    <tr>\n",
       "      <th>3</th>\n",
       "      <td>Изменить структура категорий, что увеличит конверсию, т.к. пользователи быстрее найдут нужный товар</td>\n",
       "      <td>1.12</td>\n",
       "    </tr>\n",
       "    <tr>\n",
       "      <th>4</th>\n",
       "      <td>Изменить цвет фона главной страницы, чтобы увеличить вовлеченность пользователей</td>\n",
       "      <td>1.00</td>\n",
       "    </tr>\n",
       "  </tbody>\n",
       "</table>\n",
       "</div>"
      ],
      "text/plain": [
       "                                                                                                     hypothesis  \\\n",
       "8                                                       Запустить акцию, дающую скидку на товар в день рождения   \n",
       "0            Добавить два новых канала привлечения трафика, что позволит привлекать на 30% больше пользователей   \n",
       "7              Добавить форму подписки на все основные страницы, чтобы собрать базу клиентов для email-рассылок   \n",
       "6          Показать на главной странице баннеры с актуальными акциями и распродажами, чтобы увеличить конверсию   \n",
       "2  Добавить блоки рекомендаций товаров на сайт интернет магазина, чтобы повысить конверсию и средний чек заказа   \n",
       "1                                     Запустить собственную службу доставки, что сократит срок доставки заказов   \n",
       "5                      Добавить страницу отзывов клиентов о магазине, что позволит увеличить количество заказов   \n",
       "3           Изменить структура категорий, что увеличит конверсию, т.к. пользователи быстрее найдут нужный товар   \n",
       "4                              Изменить цвет фона главной страницы, чтобы увеличить вовлеченность пользователей   \n",
       "\n",
       "     ICE  \n",
       "8  16.20  \n",
       "0  13.33  \n",
       "7  11.20  \n",
       "6   8.00  \n",
       "2   7.00  \n",
       "1   2.00  \n",
       "5   1.33  \n",
       "3   1.12  \n",
       "4   1.00  "
      ]
     },
     "metadata": {},
     "output_type": "display_data"
    }
   ],
   "source": [
    "data['ICE'] = round (data['impact']*data['confidence']/data['efforts'], 2) # рассчитываем ICE, результат записываем в отдельный столбец\n",
    "pd.set_option('max_colwidth', 150) # увеличиваем максимальную ширину столбца, чтобы была возможность прочесть гипотезы полностью\n",
    "display(data[['hypothesis','ICE']].sort_values(by='ICE', ascending=False)) # выводим на экран гипотезы в порядке приоритезации по ICE"
   ]
  },
  {
   "cell_type": "markdown",
   "metadata": {},
   "source": [
    "Теперь воспользуемся фреймворком RICE. При использовании этого фреймворка в множители числителя добавляем значение оценку количества пользователей, которых затронут изменения reach"
   ]
  },
  {
   "cell_type": "code",
   "execution_count": 44,
   "metadata": {},
   "outputs": [
    {
     "data": {
      "text/html": [
       "<div>\n",
       "<style scoped>\n",
       "    .dataframe tbody tr th:only-of-type {\n",
       "        vertical-align: middle;\n",
       "    }\n",
       "\n",
       "    .dataframe tbody tr th {\n",
       "        vertical-align: top;\n",
       "    }\n",
       "\n",
       "    .dataframe thead th {\n",
       "        text-align: right;\n",
       "    }\n",
       "</style>\n",
       "<table border=\"1\" class=\"dataframe\">\n",
       "  <thead>\n",
       "    <tr style=\"text-align: right;\">\n",
       "      <th></th>\n",
       "      <th>hypothesis</th>\n",
       "      <th>RICE</th>\n",
       "    </tr>\n",
       "  </thead>\n",
       "  <tbody>\n",
       "    <tr>\n",
       "      <th>7</th>\n",
       "      <td>Добавить форму подписки на все основные страницы, чтобы собрать базу клиентов для email-рассылок</td>\n",
       "      <td>112.0</td>\n",
       "    </tr>\n",
       "    <tr>\n",
       "      <th>2</th>\n",
       "      <td>Добавить блоки рекомендаций товаров на сайт интернет магазина, чтобы повысить конверсию и средний чек заказа</td>\n",
       "      <td>56.0</td>\n",
       "    </tr>\n",
       "    <tr>\n",
       "      <th>0</th>\n",
       "      <td>Добавить два новых канала привлечения трафика, что позволит привлекать на 30% больше пользователей</td>\n",
       "      <td>40.0</td>\n",
       "    </tr>\n",
       "    <tr>\n",
       "      <th>6</th>\n",
       "      <td>Показать на главной странице баннеры с актуальными акциями и распродажами, чтобы увеличить конверсию</td>\n",
       "      <td>40.0</td>\n",
       "    </tr>\n",
       "    <tr>\n",
       "      <th>8</th>\n",
       "      <td>Запустить акцию, дающую скидку на товар в день рождения</td>\n",
       "      <td>16.2</td>\n",
       "    </tr>\n",
       "    <tr>\n",
       "      <th>3</th>\n",
       "      <td>Изменить структура категорий, что увеличит конверсию, т.к. пользователи быстрее найдут нужный товар</td>\n",
       "      <td>9.0</td>\n",
       "    </tr>\n",
       "    <tr>\n",
       "      <th>1</th>\n",
       "      <td>Запустить собственную службу доставки, что сократит срок доставки заказов</td>\n",
       "      <td>4.0</td>\n",
       "    </tr>\n",
       "    <tr>\n",
       "      <th>5</th>\n",
       "      <td>Добавить страницу отзывов клиентов о магазине, что позволит увеличить количество заказов</td>\n",
       "      <td>4.0</td>\n",
       "    </tr>\n",
       "    <tr>\n",
       "      <th>4</th>\n",
       "      <td>Изменить цвет фона главной страницы, чтобы увеличить вовлеченность пользователей</td>\n",
       "      <td>3.0</td>\n",
       "    </tr>\n",
       "  </tbody>\n",
       "</table>\n",
       "</div>"
      ],
      "text/plain": [
       "                                                                                                     hypothesis  \\\n",
       "7              Добавить форму подписки на все основные страницы, чтобы собрать базу клиентов для email-рассылок   \n",
       "2  Добавить блоки рекомендаций товаров на сайт интернет магазина, чтобы повысить конверсию и средний чек заказа   \n",
       "0            Добавить два новых канала привлечения трафика, что позволит привлекать на 30% больше пользователей   \n",
       "6          Показать на главной странице баннеры с актуальными акциями и распродажами, чтобы увеличить конверсию   \n",
       "8                                                       Запустить акцию, дающую скидку на товар в день рождения   \n",
       "3           Изменить структура категорий, что увеличит конверсию, т.к. пользователи быстрее найдут нужный товар   \n",
       "1                                     Запустить собственную службу доставки, что сократит срок доставки заказов   \n",
       "5                      Добавить страницу отзывов клиентов о магазине, что позволит увеличить количество заказов   \n",
       "4                              Изменить цвет фона главной страницы, чтобы увеличить вовлеченность пользователей   \n",
       "\n",
       "    RICE  \n",
       "7  112.0  \n",
       "2   56.0  \n",
       "0   40.0  \n",
       "6   40.0  \n",
       "8   16.2  \n",
       "3    9.0  \n",
       "1    4.0  \n",
       "5    4.0  \n",
       "4    3.0  "
      ]
     },
     "metadata": {},
     "output_type": "display_data"
    }
   ],
   "source": [
    "data['RICE'] = data['reach']*data['impact']*data['confidence']/data['efforts'] # рассчитываем RICE, результат записываем в отдельный столбец\n",
    "display(data[['hypothesis','RICE']].sort_values(by='RICE', ascending=False)) # выводим на экран гипотезы в порядке приоритезации по RICE"
   ]
  },
  {
   "cell_type": "markdown",
   "metadata": {},
   "source": [
    "Для наглядности выведем рядом очередность приоритезации гипотез разными фреймворками"
   ]
  },
  {
   "cell_type": "markdown",
   "metadata": {},
   "source": [
    "Результаты несколько разнятся. Это связано с тем, что RICE учитывает оценку количества пользователей, которых затронут изменения и чем их больше, тем приоритет гипотезы выше. Для ICE этот критерий не учитывается.\n",
    "\n",
    "Стоит отметить, что в обоих случаях можно выделить приоритетными гипотезы под номерами 7, 0, 6. Несмотря на то, что их приоритет разнится при оценке разными фреймворками, в обоих случаях они вверху нашего \"рейтинга\". Гипотезы же 4, 5, 3, 1 в обоих случаях имеют низкий приоритет."
   ]
  },
  {
   "cell_type": "markdown",
   "metadata": {},
   "source": [
    "<div class=\"alert alert-success\">\n",
    "<h2> Комментарий ревьюера 😊<a class=\"tocSkip\"> </h2>\n",
    "    \n",
    "Приоритизация гипотез проведена успешно! Молодец, что выводишь таблицу дважды, каждый раз с сортировкой по одному из фреймоврков, так различия в их работе будут максимально наглядными. Согласна с твоими выводами по поводу их различия."
   ]
  },
  {
   "cell_type": "markdown",
   "metadata": {},
   "source": [
    "<div class=\"alert alert-block alert-danger\">\n",
    "<h2> Комментарий ревьюера 🤔<a class=\"tocSkip\"></h2>\n",
    "<s>\n",
    "Обрати внимание, что, на самом деле - мы выводим не номер, а индекс гипотезы в конкретном файле. Если такой вывод передать коллегам, то у них под этими номерами могут быть иные гипотезы. Поэтому следует указать полное название гипотез в выводах."
   ]
  },
  {
   "cell_type": "markdown",
   "metadata": {},
   "source": [
    "<div class=\"alert alert-info\"> <b></b> Итак, гипотезы, которые необходимо озвучить, чтобы передать коллегам при анализе данных.\n",
    " \n",
    "</div>"
   ]
  },
  {
   "cell_type": "markdown",
   "metadata": {},
   "source": [
    "<div class=\"alert alert-info\"> <b></b> \n",
    " Приоритетными отмечаю гипотезы: \n",
    "    7-Добавить форму подписки на все основные страницы, чтобы собрать базу клиентов для email-рассылок;\n",
    "    0-Добавить два новых канала привлечения трафика, что позволит привлекать на 30% больше пользователей;\n",
    "    6-Показать на главной странице баннеры с актуальными акциями и распродажами, чтобы увеличить конверсию.\n",
    "    \n",
    "</div>"
   ]
  },
  {
   "cell_type": "markdown",
   "metadata": {},
   "source": [
    "<div class=\"alert alert-info\"> <b></b> Однако, в обоих случаях имеет самый низкий приоритет следующие гипотезы:\n",
    "    4-Изменить цвет фона главной страницы, чтобы увеличить вовлеченность пользователей;\n",
    "    5-Добавить страницу отзывов клиентов о магазине, что позволит увеличить количество заказов;\n",
    "    3-Изменить структура категорий, что увеличит конверсию, т.к. пользователи быстрее найдут нужный товар;\n",
    "    1-Запустить собственную службу доставки, что сократит срок доставки заказов.\n",
    "</div>"
   ]
  },
  {
   "cell_type": "markdown",
   "metadata": {},
   "source": [
    "<div class=\"alert alert-success\">\n",
    "<h2> Комментарий ревьюера 😊 v_2 <a class=\"tocSkip\"> </h2>\n",
    "\n",
    "Теперь все отлично)"
   ]
  },
  {
   "cell_type": "markdown",
   "metadata": {},
   "source": [
    "Анализ А/В теста"
   ]
  },
  {
   "cell_type": "markdown",
   "metadata": {},
   "source": [
    "Предобработка"
   ]
  },
  {
   "cell_type": "markdown",
   "metadata": {},
   "source": [
    "Для начала запишем данные из имеющихся датафреймов в переменные orders и visitors соответственно и посмотрим как выглядят таблицы."
   ]
  },
  {
   "cell_type": "code",
   "execution_count": 45,
   "metadata": {},
   "outputs": [
    {
     "data": {
      "text/html": [
       "<div>\n",
       "<style scoped>\n",
       "    .dataframe tbody tr th:only-of-type {\n",
       "        vertical-align: middle;\n",
       "    }\n",
       "\n",
       "    .dataframe tbody tr th {\n",
       "        vertical-align: top;\n",
       "    }\n",
       "\n",
       "    .dataframe thead th {\n",
       "        text-align: right;\n",
       "    }\n",
       "</style>\n",
       "<table border=\"1\" class=\"dataframe\">\n",
       "  <thead>\n",
       "    <tr style=\"text-align: right;\">\n",
       "      <th></th>\n",
       "      <th>transactionId</th>\n",
       "      <th>visitorId</th>\n",
       "      <th>date</th>\n",
       "      <th>revenue</th>\n",
       "      <th>group</th>\n",
       "    </tr>\n",
       "  </thead>\n",
       "  <tbody>\n",
       "    <tr>\n",
       "      <th>0</th>\n",
       "      <td>3667963787</td>\n",
       "      <td>3312258926</td>\n",
       "      <td>2019-08-15</td>\n",
       "      <td>1650</td>\n",
       "      <td>B</td>\n",
       "    </tr>\n",
       "    <tr>\n",
       "      <th>1</th>\n",
       "      <td>2804400009</td>\n",
       "      <td>3642806036</td>\n",
       "      <td>2019-08-15</td>\n",
       "      <td>730</td>\n",
       "      <td>B</td>\n",
       "    </tr>\n",
       "    <tr>\n",
       "      <th>2</th>\n",
       "      <td>2961555356</td>\n",
       "      <td>4069496402</td>\n",
       "      <td>2019-08-15</td>\n",
       "      <td>400</td>\n",
       "      <td>A</td>\n",
       "    </tr>\n",
       "    <tr>\n",
       "      <th>3</th>\n",
       "      <td>3797467345</td>\n",
       "      <td>1196621759</td>\n",
       "      <td>2019-08-15</td>\n",
       "      <td>9759</td>\n",
       "      <td>B</td>\n",
       "    </tr>\n",
       "    <tr>\n",
       "      <th>4</th>\n",
       "      <td>2282983706</td>\n",
       "      <td>2322279887</td>\n",
       "      <td>2019-08-15</td>\n",
       "      <td>2308</td>\n",
       "      <td>B</td>\n",
       "    </tr>\n",
       "  </tbody>\n",
       "</table>\n",
       "</div>"
      ],
      "text/plain": [
       "   transactionId   visitorId        date  revenue group\n",
       "0     3667963787  3312258926  2019-08-15     1650     B\n",
       "1     2804400009  3642806036  2019-08-15      730     B\n",
       "2     2961555356  4069496402  2019-08-15      400     A\n",
       "3     3797467345  1196621759  2019-08-15     9759     B\n",
       "4     2282983706  2322279887  2019-08-15     2308     B"
      ]
     },
     "execution_count": 45,
     "metadata": {},
     "output_type": "execute_result"
    }
   ],
   "source": [
    "orders = pd.read_csv('/datasets/orders.csv', sep=',')\n",
    "orders.head()"
   ]
  },
  {
   "cell_type": "code",
   "execution_count": 46,
   "metadata": {},
   "outputs": [
    {
     "data": {
      "text/html": [
       "<div>\n",
       "<style scoped>\n",
       "    .dataframe tbody tr th:only-of-type {\n",
       "        vertical-align: middle;\n",
       "    }\n",
       "\n",
       "    .dataframe tbody tr th {\n",
       "        vertical-align: top;\n",
       "    }\n",
       "\n",
       "    .dataframe thead th {\n",
       "        text-align: right;\n",
       "    }\n",
       "</style>\n",
       "<table border=\"1\" class=\"dataframe\">\n",
       "  <thead>\n",
       "    <tr style=\"text-align: right;\">\n",
       "      <th></th>\n",
       "      <th>date</th>\n",
       "      <th>group</th>\n",
       "      <th>visitors</th>\n",
       "    </tr>\n",
       "  </thead>\n",
       "  <tbody>\n",
       "    <tr>\n",
       "      <th>0</th>\n",
       "      <td>2019-08-01</td>\n",
       "      <td>A</td>\n",
       "      <td>719</td>\n",
       "    </tr>\n",
       "    <tr>\n",
       "      <th>1</th>\n",
       "      <td>2019-08-02</td>\n",
       "      <td>A</td>\n",
       "      <td>619</td>\n",
       "    </tr>\n",
       "    <tr>\n",
       "      <th>2</th>\n",
       "      <td>2019-08-03</td>\n",
       "      <td>A</td>\n",
       "      <td>507</td>\n",
       "    </tr>\n",
       "    <tr>\n",
       "      <th>3</th>\n",
       "      <td>2019-08-04</td>\n",
       "      <td>A</td>\n",
       "      <td>717</td>\n",
       "    </tr>\n",
       "    <tr>\n",
       "      <th>4</th>\n",
       "      <td>2019-08-05</td>\n",
       "      <td>A</td>\n",
       "      <td>756</td>\n",
       "    </tr>\n",
       "  </tbody>\n",
       "</table>\n",
       "</div>"
      ],
      "text/plain": [
       "         date group  visitors\n",
       "0  2019-08-01     A       719\n",
       "1  2019-08-02     A       619\n",
       "2  2019-08-03     A       507\n",
       "3  2019-08-04     A       717\n",
       "4  2019-08-05     A       756"
      ]
     },
     "execution_count": 46,
     "metadata": {},
     "output_type": "execute_result"
    }
   ],
   "source": [
    "visitors = pd.read_csv('/datasets/visitors.csv')\n",
    "visitors.head()"
   ]
  },
  {
   "cell_type": "markdown",
   "metadata": {},
   "source": [
    "Приведем тип данных в столбцах date в обоих датафреймах к типу datetime"
   ]
  },
  {
   "cell_type": "code",
   "execution_count": 47,
   "metadata": {},
   "outputs": [],
   "source": [
    "orders['date'] = orders['date'].map(\n",
    "    lambda x: dt.datetime.strptime(x, '%Y-%m-%d')\n",
    ")\n",
    "visitors['date'] = visitors['date'].map(\n",
    "    lambda x: dt.datetime.strptime(x, '%Y-%m-%d')\n",
    ")"
   ]
  },
  {
   "cell_type": "markdown",
   "metadata": {},
   "source": [
    "Проверяем корректность разделения пользователей по группам."
   ]
  },
  {
   "cell_type": "code",
   "execution_count": 48,
   "metadata": {},
   "outputs": [
    {
     "data": {
      "text/plain": [
       "58"
      ]
     },
     "execution_count": 48,
     "metadata": {},
     "output_type": "execute_result"
    }
   ],
   "source": [
    "# отбираем группы из данных с заказами \n",
    "group_a=orders.query('group == \"A\"') \n",
    "group_b=orders.query('group == \"B\"') \n",
    "  \n",
    "# получаем id пользователей, попавших в обе группы \n",
    "group_intersections=list(np.intersect1d(group_a['visitorId'], group_b['visitorId']))\n",
    "len(group_intersections)"
   ]
  },
  {
   "cell_type": "markdown",
   "metadata": {},
   "source": [
    "Получается 58 пользователей попали в обе группы. Это может исказить выводы дальнейшего исследования, поэтому от записей о покупках этих пользователей придется избавиться"
   ]
  },
  {
   "cell_type": "code",
   "execution_count": 49,
   "metadata": {},
   "outputs": [],
   "source": [
    "# перезаписываем orders\n",
    "orders = orders.query('visitorId not in @group_intersections')"
   ]
  },
  {
   "cell_type": "markdown",
   "metadata": {},
   "source": [
    "Проверим, что в данных не осталось записей о пользователях попавших в обе группы"
   ]
  },
  {
   "cell_type": "code",
   "execution_count": 50,
   "metadata": {},
   "outputs": [
    {
     "data": {
      "text/plain": [
       "0"
      ]
     },
     "execution_count": 50,
     "metadata": {},
     "output_type": "execute_result"
    }
   ],
   "source": [
    "# отбираем группы из данных с заказами \n",
    "group_a=orders.query('group == \"A\"') \n",
    "group_b=orders.query('group == \"B\"') \n",
    "  \n",
    "# получаем пользователей, попавших в обе группы \n",
    "group_intersections=list(np.intersect1d(group_a['visitorId'], group_b['visitorId']))\n",
    "len(group_intersections)"
   ]
  },
  {
   "cell_type": "markdown",
   "metadata": {},
   "source": [
    "<div class=\"alert alert-success\">\n",
    "<h2> Комментарий ревьюера 😊<a class=\"tocSkip\"> </h2>\n",
    "\n",
    "Молодец, что проверяешь пользователей на пересечение по группам)"
   ]
  },
  {
   "cell_type": "markdown",
   "metadata": {},
   "source": [
    "<div class=\"alert alert-block alert-danger\">\n",
    "<h2> Комментарий ревьюера 🤔<a class=\"tocSkip\"></h2>\n",
    "    <s>\n",
    "Мы пропустили один важный шаг предобработки - проверка на дубликаты, давай добавим)"
   ]
  },
  {
   "cell_type": "markdown",
   "metadata": {},
   "source": [
    "<div class=\"alert alert-info\"> <b></b> Добавляю проверку на дубликаты</div>\n"
   ]
  },
  {
   "cell_type": "code",
   "execution_count": 51,
   "metadata": {},
   "outputs": [
    {
     "data": {
      "text/plain": [
       "0"
      ]
     },
     "execution_count": 51,
     "metadata": {},
     "output_type": "execute_result"
    }
   ],
   "source": [
    "orders.duplicated().sum()"
   ]
  },
  {
   "cell_type": "code",
   "execution_count": 52,
   "metadata": {},
   "outputs": [
    {
     "data": {
      "text/plain": [
       "0"
      ]
     },
     "execution_count": 52,
     "metadata": {},
     "output_type": "execute_result"
    }
   ],
   "source": [
    "visitors.duplicated().sum()"
   ]
  },
  {
   "cell_type": "markdown",
   "metadata": {},
   "source": [
    "<div class=\"alert alert-success\">\n",
    "<h2> Комментарий ревьюера 😊 v_2 <a class=\"tocSkip\"> </h2>\n",
    "\n",
    "👍"
   ]
  },
  {
   "cell_type": "markdown",
   "metadata": {},
   "source": [
    "Дубликаты не обнаружены"
   ]
  },
  {
   "cell_type": "markdown",
   "metadata": {},
   "source": [
    "Чтобы построить графики, нужно собрать кумулятивные данные. Создадим датафрейм cumulativeData со столбцами:\n",
    "\n",
    "date — дата;\n",
    "group — группа A/B-теста (A или B);\n",
    "orders — кумулятивное количество заказов на указанную дату в указанной группе;\n",
    "buyers — кумулятивное количество пользователей, совершивших хотя бы один заказ, на указанную дату в указанной группе;\n",
    "revenue — кумулятивная выручка на указанную дату в указанной группе (средний чек);\n",
    "visitors — кумулятивное количество посетителей интернет-магазина на указанную дату в определённой группе.\n",
    "Для этого вначале подготовимся."
   ]
  },
  {
   "cell_type": "code",
   "execution_count": 53,
   "metadata": {},
   "outputs": [],
   "source": [
    "# создаем массив уникальных пар значений дат и групп теста\n",
    "datesGroups = orders[['date','group']].drop_duplicates()"
   ]
  },
  {
   "cell_type": "markdown",
   "metadata": {},
   "source": [
    "Получим строки таблицы orders, дата которых меньше или равна дате элемента из datesGroups, а группа теста равна группе из datesGroups.\n",
    "\n",
    "Агрегируем значения. Вычислим максимальную дату. Для группы тоже рассчитаем максимум, и хотя она будет определённой, сделаем это, чтобы столбец group не пропал из итогового вывода. Найдём число уникальных ID заказов и пользователей. Подсчитаем сумму средних чеков\n",
    "\n",
    "Применим методы к каждой строке датафрейма и отсортируем результаты по столбцам date и group.\n",
    "\n",
    "Результат запишем в датафрейм ordersAgregated"
   ]
  },
  {
   "cell_type": "code",
   "execution_count": 54,
   "metadata": {},
   "outputs": [],
   "source": [
    "ordersAggregated = datesGroups.apply(lambda x: orders[np.logical_and(orders['date'] <= x['date'], orders['group'] == x['group'])]\\\n",
    ".agg({'date' : 'max', 'group' : 'max', 'transactionId' : 'nunique', 'visitorId' : 'nunique', 'revenue' : 'sum'}), axis=1).sort_values(by=['date','group'])"
   ]
  },
  {
   "cell_type": "markdown",
   "metadata": {},
   "source": [
    "Аналогично visitorsAggregated"
   ]
  },
  {
   "cell_type": "code",
   "execution_count": 55,
   "metadata": {},
   "outputs": [],
   "source": [
    "visitorsAggregated = datesGroups.apply(lambda x: visitors[np.logical_and(visitors['date'] <= x['date'], visitors['group'] == x['group'])].agg({'date' : 'max', 'group' : 'max', 'visitors' : 'sum'}), axis=1).sort_values(by=['date','group'])"
   ]
  },
  {
   "cell_type": "markdown",
   "metadata": {},
   "source": [
    "Таким образом в ordersAggregated и visitorsAggregated будут находиться такие данные как будто мы ежедневно считали результаты тестирования до выбранного дня включительно и сохраняли их в строках таблиц."
   ]
  },
  {
   "cell_type": "code",
   "execution_count": 56,
   "metadata": {},
   "outputs": [
    {
     "name": "stdout",
     "output_type": "stream",
     "text": [
      "        date group  orders  buyers  revenue  visitors\n",
      "0 2019-08-01     A      23      19   142779       719\n",
      "1 2019-08-01     B      17      17    59758       713\n",
      "2 2019-08-02     A      42      36   234381      1338\n",
      "3 2019-08-02     B      40      39   221801      1294\n",
      "4 2019-08-03     A      66      60   346854      1845\n"
     ]
    }
   ],
   "source": [
    "# объединяем кумулятивные данные в одной таблице и присваиваем ее столбцам понятные названия\n",
    "cumulativeData = ordersAggregated.merge(visitorsAggregated, left_on=['date', 'group'], right_on=['date', 'group'])\n",
    "cumulativeData.columns = ['date', 'group', 'orders', 'buyers', 'revenue', 'visitors']\n",
    "\n",
    "print(cumulativeData.head(5))"
   ]
  },
  {
   "cell_type": "markdown",
   "metadata": {},
   "source": [
    "<div class=\"alert alert-warning\">\n",
    "<h2> Комментарий ревьюера 🤓<a class=\"tocSkip\"> </h2>\n",
    "        \n",
    "Можно проверить, корректно ли был содан датафрейм cummulativeData. Например, совпадают ли минимальная и максимальная даты в этом датафрейме с минимальной и максимальной датой в исходных данных. </div>  "
   ]
  },
  {
   "cell_type": "markdown",
   "metadata": {},
   "source": [
    "График кумулятивной выручки по группам"
   ]
  },
  {
   "cell_type": "code",
   "execution_count": 57,
   "metadata": {},
   "outputs": [],
   "source": [
    "# параметры визуализации\n",
    "sns.set(font_scale=2, style='whitegrid', rc={'figure.figsize':(20,7)})"
   ]
  },
  {
   "cell_type": "code",
   "execution_count": 58,
   "metadata": {},
   "outputs": [
    {
     "data": {
      "image/png": "[encoded data removed]",
      "text/plain": [
       "<Figure size 1440x504 with 1 Axes>"
      ]
     },
     "metadata": {},
     "output_type": "display_data"
    }
   ],
   "source": [
    "# датафрейм с кумулятивным количеством заказов и кумулятивной выручкой по дням в группе А\n",
    "cumulativeRevenueA = cumulativeData[cumulativeData['group']=='A'][['date','revenue', 'orders']]\n",
    "\n",
    "# датафрейм с кумулятивным количеством заказов и кумулятивной выручкой по дням в группе B\n",
    "cumulativeRevenueB = cumulativeData[cumulativeData['group']=='B'][['date','revenue', 'orders']]\n",
    "\n",
    "# Строим график выручки группы А\n",
    "plt.plot(cumulativeRevenueA['date'], cumulativeRevenueA['revenue'], label='A')\n",
    "\n",
    "# Строим график выручки группы B\n",
    "plt.plot(cumulativeRevenueB['date'], cumulativeRevenueB['revenue'], label='B')\n",
    "\n",
    "# размер шрифта по оси х\n",
    "plt.tick_params(axis='x', which='major', labelsize=15)\n",
    "\n",
    "plt.title('График кумулятивной выручки по группам')\n",
    "plt.xlabel('Дата')\n",
    "plt.ylabel('Выручка')\n",
    "plt.legend();\n"
   ]
  },
  {
   "cell_type": "markdown",
   "metadata": {},
   "source": [
    "Вывод:\n",
    "\n",
    "выручка стабильно растет на протяжении всего теста в обоих группах;\n",
    "в начале теста метрика немного колеблется, но показывает близкие значения в обоих группах;\n",
    "у группы B наблюдается резкий всплеск после 17.08, который может быть связан с резким увеличением заказов в этот день, либо о появлении очень дорогих заказов в выборке;\n",
    "после выброса в группе B выручки в обоих группах стабилизируются и растут практически одинаково.\n",
    "Однозначно утверждать, что группа B лучше на данном шаге нельзя."
   ]
  },
  {
   "cell_type": "markdown",
   "metadata": {},
   "source": [
    "<div class=\"alert alert-success\">\n",
    "<h2> Комментарий ревьюера 😊<a class=\"tocSkip\"> </h2>\n",
    "  \n",
    "Верно)"
   ]
  },
  {
   "cell_type": "markdown",
   "metadata": {},
   "source": [
    "График кумулятивного среднего чека по группам.\n",
    "Построим графики среднего чека по группам — разделим кумулятивную выручку на кумулятивное число заказов:"
   ]
  },
  {
   "cell_type": "code",
   "execution_count": 59,
   "metadata": {},
   "outputs": [
    {
     "data": {
      "image/png": "[encoded data removed]",
      "text/plain": [
       "<Figure size 1440x504 with 1 Axes>"
      ]
     },
     "metadata": {},
     "output_type": "display_data"
    }
   ],
   "source": [
    "# график среднего чека группы А\n",
    "plt.plot(cumulativeRevenueA['date'], cumulativeRevenueA['revenue']/cumulativeRevenueA['orders'], label='A')\n",
    "\n",
    "# график среднего чека группы В\n",
    "plt.plot(cumulativeRevenueB['date'], cumulativeRevenueB['revenue']/cumulativeRevenueB['orders'], label='B')\n",
    "\n",
    "# размер шрифта по оси x\n",
    "plt.tick_params(axis='x', which='major', labelsize=15)\n",
    "\n",
    "plt.title('График кумулятивного среднего чека по группам')\n",
    "plt.xlabel('Дата')\n",
    "plt.ylabel('Кумулятивный cредний чек')\n",
    "plt.legend();\n"
   ]
  },
  {
   "cell_type": "markdown",
   "metadata": {},
   "source": [
    "Вывод:\n",
    "\n",
    "В целом к концу теста метрика стабилизируется в обоих группах.\n",
    "Группа А, в отличии от группы В более равномерна, к концу теста средний чек почти сравнялся с максимальным значением, достигнутым 13 августа.\n",
    "Выделяется аномальный рост среднего чека 18-19 августа по группе В, а затем снижение. Возможно, в группу B в первой половине теста попали крупные заказы (резкий всплеск на графике). Тогда ей нужно больше данных, чтобы прийти к реальному среднему чеку и установиться на его уровне;"
   ]
  },
  {
   "cell_type": "markdown",
   "metadata": {},
   "source": [
    "График относительного изменения кумулятивного среднего чека группы В к группе А.\n",
    "Построим график относительного различия для среднего чека."
   ]
  },
  {
   "cell_type": "code",
   "execution_count": 60,
   "metadata": {},
   "outputs": [
    {
     "data": {
      "image/png": "[encoded data removed]",
      "text/plain": [
       "<Figure size 1440x504 with 1 Axes>"
      ]
     },
     "metadata": {},
     "output_type": "display_data"
    }
   ],
   "source": [
    "# собираем данные в одном датафрейме\n",
    "mergedCumulativeRevenue = cumulativeRevenueA.merge(cumulativeRevenueB, left_on='date', right_on='date', how='left', suffixes=['A', 'B'])\n",
    "\n",
    "# cтроим отношение средних чеков\n",
    "plt.plot(mergedCumulativeRevenue['date'], (mergedCumulativeRevenue['revenueB']/mergedCumulativeRevenue['ordersB'])/(mergedCumulativeRevenue['revenueA']/mergedCumulativeRevenue['ordersA'])-1)\n",
    "\n",
    "# добавляем ось X\n",
    "plt.axhline(y=0, color='black', linestyle='--')\n",
    "\n",
    "# размер шрифта по оси x\n",
    "plt.tick_params(axis='x', which='major', labelsize=15)\n",
    "\n",
    "plt.title('График относительного изменения кумулятивного среднего чека группы B к группе A')\n",
    "plt.xlabel('Дата')\n",
    "plt.ylabel('Кумулятивный cредний чек');\n"
   ]
  },
  {
   "cell_type": "markdown",
   "metadata": {},
   "source": [
    "Вывод:\n",
    "\n",
    "В начале теста лучше себя чувствовали показатели группы B, затем они стали ухудшаться относительно А\n",
    "Ближе к середине теста 13.08 А достигает своих лучших показателей, поэтому график опускается в худшую за время теста для B точку\n",
    "Однако важно отметить, что на графике различия между сегментами резко «скачет» в некоторых днях, например 05.08 или 08.08, но особенно выделяется, конечно скачок 18.08. Очевидно есть выбросы.\n",
    "После выброса метрика снижается и стремится стабилизироваться."
   ]
  },
  {
   "cell_type": "markdown",
   "metadata": {},
   "source": [
    "График кумулятивной конверсии по группам\n",
    "Теперь посмотрим на кумулятивную конверсию"
   ]
  },
  {
   "cell_type": "code",
   "execution_count": 61,
   "metadata": {},
   "outputs": [
    {
     "data": {
      "image/png": "[encoded data removed]",
      "text/plain": [
       "<Figure size 1440x504 with 1 Axes>"
      ]
     },
     "metadata": {},
     "output_type": "display_data"
    }
   ],
   "source": [
    "# считаем кумулятивную конверсию\n",
    "cumulativeData['conversion'] = cumulativeData['orders']/cumulativeData['visitors']\n",
    "\n",
    "# отделяем данные по группе A\n",
    "cumulativeDataA = cumulativeData[cumulativeData['group']=='A']\n",
    "\n",
    "# отделяем данные по группе B\n",
    "cumulativeDataB = cumulativeData[cumulativeData['group']=='B']\n",
    "\n",
    "# строим графики\n",
    "plt.plot(cumulativeDataA['date'], cumulativeDataA['conversion'], label='A')\n",
    "plt.plot(cumulativeDataB['date'], cumulativeDataB['conversion'], label='B')\n",
    "plt.legend()\n",
    "\n",
    "# размер шрифта по оси x\n",
    "plt.tick_params(axis='x', which='major', labelsize=15)\n",
    "\n",
    "# задаем масштаб осей\n",
    "plt.axis([dt.datetime(2019, 8, 1), dt.datetime(2019, 9, 1), 0.020, 0.038])\n",
    "\n",
    "plt.title('График кумулятивной конверсии по группам')\n",
    "plt.xlabel('Дата')\n",
    "plt.ylabel('Кумулятивная конверсия');\n"
   ]
  },
  {
   "cell_type": "markdown",
   "metadata": {},
   "source": [
    "Вывод:\n",
    "\n",
    "В начале теста наблюдаем заметные колебания. В начале конверсия у группы А была больше группы B, но уже к концу первой недели тестирования конверсия группы В выросла, а группы А снизилась, после чего графики начали стремиться к стабилизации\n",
    "К 11-12 августа различие в конверсии у обоих групп становится очевидно, и начинает фиксироваться.\n",
    "Примерно к 20 августа колебания максимально сглаживаются\n",
    "В целом, конверсия у группы В стабильно лучше по накопленным показателям чем A"
   ]
  },
  {
   "cell_type": "markdown",
   "metadata": {},
   "source": [
    "График относительного изменения кумулятивной конверсии группы В к группе А\n",
    "Построим график относительного изменения кумулятивных конверсий"
   ]
  },
  {
   "cell_type": "code",
   "execution_count": 62,
   "metadata": {},
   "outputs": [
    {
     "data": {
      "image/png": "[encoded data removed]",
      "text/plain": [
       "<Figure size 1440x504 with 1 Axes>"
      ]
     },
     "metadata": {},
     "output_type": "display_data"
    }
   ],
   "source": [
    "mergedCumulativeConversions = cumulativeDataA[['date','conversion']].merge(cumulativeDataB[['date','conversion']], left_on='date', right_on='date', how='left', suffixes=['A', 'B'])\n",
    "\n",
    "plt.plot(mergedCumulativeConversions['date'], mergedCumulativeConversions['conversionB']/mergedCumulativeConversions['conversionA']-1, label=\"Относительный прирост конверсии группы B относительно группы A\")\n",
    "plt.legend()\n",
    "\n",
    "plt.axhline(y=0, color='black', linestyle='--')\n",
    "plt.axhline(y=0.1, color='grey', linestyle='--')\n",
    "plt.axis([dt.datetime(2019, 8, 1), dt.datetime(2019, 9, 1), -0.3, 0.3])\n",
    "\n",
    "# размер шрифта по оси x\n",
    "plt.tick_params(axis='x', which='major', labelsize=15)\n",
    "\n",
    "plt.title('График относительного изменения кумулятивной конверсии группы B к группе A')\n",
    "plt.xlabel('Дата')\n",
    "plt.ylabel('Кумулятивная конверсия');\n"
   ]
  },
  {
   "cell_type": "markdown",
   "metadata": {},
   "source": [
    "Вывод:\n",
    "\n",
    "C самого начала теста, метрика группа В меньше группы А, но с 6 августа вырвалась вперед и стабильно росла до своего пика 15.08 в 21%, далее метрика начинается снижаться и стремиться к стабилизации.\n",
    "\n",
    "В целом отношение конверсии стремится примерно к уровню 13-17% в пользу B, но в последние дни теста еще растет. Скорее всего отношение конверсии еще полностью не установилось, и сейчас делать какие-либо однозначные выводы по тесту еще нельзя, но на первый взгляд B выглядит интереснее в плане конверсии."
   ]
  },
  {
   "cell_type": "markdown",
   "metadata": {},
   "source": [
    "<div class=\"alert alert-success\">\n",
    "<h2> Комментарий ревьюера 😊<a class=\"tocSkip\"> </h2>\n",
    "\n",
    "Графики построены и интерпретированы верно, молодец)\n",
    "</div>"
   ]
  },
  {
   "cell_type": "markdown",
   "metadata": {},
   "source": [
    "Точечный график количества заказов по пользователям\n",
    "Для начала посмотрим топ количества заказов в табличном виде"
   ]
  },
  {
   "cell_type": "code",
   "execution_count": 63,
   "metadata": {},
   "outputs": [
    {
     "data": {
      "text/html": [
       "<div>\n",
       "<style scoped>\n",
       "    .dataframe tbody tr th:only-of-type {\n",
       "        vertical-align: middle;\n",
       "    }\n",
       "\n",
       "    .dataframe tbody tr th {\n",
       "        vertical-align: top;\n",
       "    }\n",
       "\n",
       "    .dataframe thead th {\n",
       "        text-align: right;\n",
       "    }\n",
       "</style>\n",
       "<table border=\"1\" class=\"dataframe\">\n",
       "  <thead>\n",
       "    <tr style=\"text-align: right;\">\n",
       "      <th></th>\n",
       "      <th>visitorId</th>\n",
       "      <th>orders</th>\n",
       "    </tr>\n",
       "  </thead>\n",
       "  <tbody>\n",
       "    <tr>\n",
       "      <th>908</th>\n",
       "      <td>3967698036</td>\n",
       "      <td>3</td>\n",
       "    </tr>\n",
       "    <tr>\n",
       "      <th>55</th>\n",
       "      <td>249864742</td>\n",
       "      <td>3</td>\n",
       "    </tr>\n",
       "    <tr>\n",
       "      <th>478</th>\n",
       "      <td>2108163459</td>\n",
       "      <td>3</td>\n",
       "    </tr>\n",
       "    <tr>\n",
       "      <th>687</th>\n",
       "      <td>2988190573</td>\n",
       "      <td>3</td>\n",
       "    </tr>\n",
       "    <tr>\n",
       "      <th>890</th>\n",
       "      <td>3908431265</td>\n",
       "      <td>3</td>\n",
       "    </tr>\n",
       "    <tr>\n",
       "      <th>138</th>\n",
       "      <td>611059232</td>\n",
       "      <td>3</td>\n",
       "    </tr>\n",
       "    <tr>\n",
       "      <th>632</th>\n",
       "      <td>2742574263</td>\n",
       "      <td>3</td>\n",
       "    </tr>\n",
       "    <tr>\n",
       "      <th>157</th>\n",
       "      <td>678354126</td>\n",
       "      <td>2</td>\n",
       "    </tr>\n",
       "    <tr>\n",
       "      <th>323</th>\n",
       "      <td>1404560065</td>\n",
       "      <td>2</td>\n",
       "    </tr>\n",
       "    <tr>\n",
       "      <th>452</th>\n",
       "      <td>1985475298</td>\n",
       "      <td>2</td>\n",
       "    </tr>\n",
       "  </tbody>\n",
       "</table>\n",
       "</div>"
      ],
      "text/plain": [
       "      visitorId  orders\n",
       "908  3967698036       3\n",
       "55    249864742       3\n",
       "478  2108163459       3\n",
       "687  2988190573       3\n",
       "890  3908431265       3\n",
       "138   611059232       3\n",
       "632  2742574263       3\n",
       "157   678354126       2\n",
       "323  1404560065       2\n",
       "452  1985475298       2"
      ]
     },
     "execution_count": 63,
     "metadata": {},
     "output_type": "execute_result"
    }
   ],
   "source": [
    "ordersByUsers = (orders.groupby('visitorId', as_index=False).agg({'transactionId': pd.Series.nunique}))\n",
    "ordersByUsers.columns = ['visitorId', 'orders']\n",
    "\n",
    "ordersByUsers.sort_values(by='orders', ascending=False).head(10)"
   ]
  },
  {
   "cell_type": "markdown",
   "metadata": {},
   "source": [
    "Теперь построим точечный график количества заказов по пользователям"
   ]
  },
  {
   "cell_type": "code",
   "execution_count": 64,
   "metadata": {},
   "outputs": [
    {
     "data": {
      "image/png": "[encoded data removed]",
      "text/plain": [
       "<Figure size 1440x504 with 1 Axes>"
      ]
     },
     "metadata": {},
     "output_type": "display_data"
    }
   ],
   "source": [
    "# серия из чисел от 0 до количества наблюдений в ordersByUsers\n",
    "x_values = pd.Series(range(0, len(ordersByUsers)))\n",
    "plt.scatter(x_values, ordersByUsers['orders']);\n",
    "\n",
    "plt.title('Точечный график количества заказов по пользователям')\n",
    "plt.ylabel('Количество заказов');"
   ]
  },
  {
   "cell_type": "markdown",
   "metadata": {},
   "source": [
    "Вывод:\n",
    "\n",
    "Есть пользователи, которые совершали по 1, 2, 3 заказов. Чаще всего 1 заказ, не редки случаи и 2-х заказов. Их точная доля не ясна — непонятно, считать их аномалиями или нет. Для этого необходимо посчитать выборочные перцентили количества заказов на одного пользователя."
   ]
  },
  {
   "cell_type": "markdown",
   "metadata": {},
   "source": [
    "Посчитаем выборочные 95-й и 99-й перцентили количества заказов на одного пользователя"
   ]
  },
  {
   "cell_type": "code",
   "execution_count": 65,
   "metadata": {},
   "outputs": [
    {
     "name": "stdout",
     "output_type": "stream",
     "text": [
      "[1. 2.]\n"
     ]
    }
   ],
   "source": [
    "print(np.percentile(ordersByUsers['orders'], [95, 99]))"
   ]
  },
  {
   "cell_type": "markdown",
   "metadata": {},
   "source": [
    "Вывод:\n",
    "\n",
    "Не более 5% пользователей оформляли больше чем один и не более 1% пользователей - больше двух заказов. Целесообразно выбрать 1 заказ на одного пользователя за нижнюю границу \"нормального\" числа заказов, и отсеять аномальных пользователей."
   ]
  },
  {
   "cell_type": "markdown",
   "metadata": {},
   "source": [
    "<div class=\"alert alert-warning\">\n",
    "<h2> Комментарий ревьюера 🤓<a class=\"tocSkip\"> </h2>\n",
    "\n",
    "Использовать 95% перцентиль для отсечения выбросов - возможный вариант. Но в данном случае лучше использовать 99% перцентиль. Мы фильтруем по двум параметрам. А значит при последовательном отсечении 5%, мы отбросим больше 5%, а это не очень хорошо."
   ]
  },
  {
   "cell_type": "markdown",
   "metadata": {},
   "source": [
    "Точечный график стоимости заказов\n",
    "Для начала посмотрим в табличном виде топ по стоимости заказов"
   ]
  },
  {
   "cell_type": "code",
   "execution_count": 66,
   "metadata": {},
   "outputs": [
    {
     "data": {
      "text/html": [
       "<div>\n",
       "<style scoped>\n",
       "    .dataframe tbody tr th:only-of-type {\n",
       "        vertical-align: middle;\n",
       "    }\n",
       "\n",
       "    .dataframe tbody tr th {\n",
       "        vertical-align: top;\n",
       "    }\n",
       "\n",
       "    .dataframe thead th {\n",
       "        text-align: right;\n",
       "    }\n",
       "</style>\n",
       "<table border=\"1\" class=\"dataframe\">\n",
       "  <thead>\n",
       "    <tr style=\"text-align: right;\">\n",
       "      <th></th>\n",
       "      <th>transactionId</th>\n",
       "      <th>visitorId</th>\n",
       "      <th>date</th>\n",
       "      <th>revenue</th>\n",
       "      <th>group</th>\n",
       "    </tr>\n",
       "  </thead>\n",
       "  <tbody>\n",
       "    <tr>\n",
       "      <th>425</th>\n",
       "      <td>590470918</td>\n",
       "      <td>1920142716</td>\n",
       "      <td>2019-08-19</td>\n",
       "      <td>1294500</td>\n",
       "      <td>B</td>\n",
       "    </tr>\n",
       "    <tr>\n",
       "      <th>1196</th>\n",
       "      <td>3936777065</td>\n",
       "      <td>2108080724</td>\n",
       "      <td>2019-08-15</td>\n",
       "      <td>202740</td>\n",
       "      <td>B</td>\n",
       "    </tr>\n",
       "    <tr>\n",
       "      <th>1136</th>\n",
       "      <td>666610489</td>\n",
       "      <td>1307669133</td>\n",
       "      <td>2019-08-13</td>\n",
       "      <td>92550</td>\n",
       "      <td>A</td>\n",
       "    </tr>\n",
       "    <tr>\n",
       "      <th>744</th>\n",
       "      <td>3668308183</td>\n",
       "      <td>888512513</td>\n",
       "      <td>2019-08-27</td>\n",
       "      <td>86620</td>\n",
       "      <td>B</td>\n",
       "    </tr>\n",
       "    <tr>\n",
       "      <th>743</th>\n",
       "      <td>3603576309</td>\n",
       "      <td>4133034833</td>\n",
       "      <td>2019-08-09</td>\n",
       "      <td>67990</td>\n",
       "      <td>A</td>\n",
       "    </tr>\n",
       "    <tr>\n",
       "      <th>1103</th>\n",
       "      <td>1348774318</td>\n",
       "      <td>1164614297</td>\n",
       "      <td>2019-08-12</td>\n",
       "      <td>66350</td>\n",
       "      <td>A</td>\n",
       "    </tr>\n",
       "    <tr>\n",
       "      <th>1099</th>\n",
       "      <td>316924019</td>\n",
       "      <td>148427295</td>\n",
       "      <td>2019-08-12</td>\n",
       "      <td>65710</td>\n",
       "      <td>A</td>\n",
       "    </tr>\n",
       "    <tr>\n",
       "      <th>949</th>\n",
       "      <td>1347999392</td>\n",
       "      <td>887908475</td>\n",
       "      <td>2019-08-21</td>\n",
       "      <td>60450</td>\n",
       "      <td>A</td>\n",
       "    </tr>\n",
       "    <tr>\n",
       "      <th>940</th>\n",
       "      <td>2420050534</td>\n",
       "      <td>4003628586</td>\n",
       "      <td>2019-08-08</td>\n",
       "      <td>58550</td>\n",
       "      <td>B</td>\n",
       "    </tr>\n",
       "    <tr>\n",
       "      <th>131</th>\n",
       "      <td>3163614039</td>\n",
       "      <td>2254586615</td>\n",
       "      <td>2019-08-22</td>\n",
       "      <td>53904</td>\n",
       "      <td>A</td>\n",
       "    </tr>\n",
       "  </tbody>\n",
       "</table>\n",
       "</div>"
      ],
      "text/plain": [
       "      transactionId   visitorId       date  revenue group\n",
       "425       590470918  1920142716 2019-08-19  1294500     B\n",
       "1196     3936777065  2108080724 2019-08-15   202740     B\n",
       "1136      666610489  1307669133 2019-08-13    92550     A\n",
       "744      3668308183   888512513 2019-08-27    86620     B\n",
       "743      3603576309  4133034833 2019-08-09    67990     A\n",
       "1103     1348774318  1164614297 2019-08-12    66350     A\n",
       "1099      316924019   148427295 2019-08-12    65710     A\n",
       "949      1347999392   887908475 2019-08-21    60450     A\n",
       "940      2420050534  4003628586 2019-08-08    58550     B\n",
       "131      3163614039  2254586615 2019-08-22    53904     A"
      ]
     },
     "execution_count": 66,
     "metadata": {},
     "output_type": "execute_result"
    }
   ],
   "source": [
    "orders.sort_values(by='revenue', ascending=False).head(10)"
   ]
  },
  {
   "cell_type": "markdown",
   "metadata": {},
   "source": [
    "даже в этой таблице уже виден пользователь из группы B, который скорее всего и стал причиной аномального всплеска, потратив 1 294 500 рублей"
   ]
  },
  {
   "cell_type": "markdown",
   "metadata": {},
   "source": [
    "Теперь построим точечный график"
   ]
  },
  {
   "cell_type": "code",
   "execution_count": 67,
   "metadata": {},
   "outputs": [
    {
     "data": {
      "image/png": "[encoded data removed]",
      "text/plain": [
       "<Figure size 1440x504 with 1 Axes>"
      ]
     },
     "metadata": {},
     "output_type": "display_data"
    }
   ],
   "source": [
    "x_values = pd.Series(range(0, len(orders['revenue'])))\n",
    "plt.scatter(x_values, orders['revenue']);\n",
    "plt.title('Точечный график стоимостей заказов')\n",
    "plt.ylabel('Стоимость заказа в млн.');"
   ]
  },
  {
   "cell_type": "markdown",
   "metadata": {},
   "source": [
    "Вывод:\n",
    "\n",
    "На графике зафиксирован один самый крупный заказ на сумму 1 294 500. Далее виден заказ в размере 202 740 Все остальные заказы ниже 92 550. Для того, чтобы точно определить стоимость заказа, которую следует считать аномальной посчитаем выборочные перцентели."
   ]
  },
  {
   "cell_type": "markdown",
   "metadata": {},
   "source": [
    "<div class=\"alert alert-warning\">\n",
    "<h2> Комментарий ревьюера 🤓<a class=\"tocSkip\"> </h2>\n",
    "Можно добавить еще один график, ограничив значения по оси Y. Чтобы двух явных выбросов не было видно, а мы могли рассмотреть основную часть заказов."
   ]
  },
  {
   "cell_type": "markdown",
   "metadata": {},
   "source": [
    "Посчитаем выборочные 95-й и 99-й перцентили стоимости заказов"
   ]
  },
  {
   "cell_type": "code",
   "execution_count": 68,
   "metadata": {},
   "outputs": [
    {
     "name": "stdout",
     "output_type": "stream",
     "text": [
      "[26785. 53904.]\n"
     ]
    }
   ],
   "source": [
    "print(np.percentile(orders['revenue'], [95, 99]))"
   ]
  },
  {
   "cell_type": "markdown",
   "metadata": {},
   "source": [
    "Вывод:\n",
    "\n",
    "Не более, чем у 5% пользователей чек дороже 26 785, и только не более 1% пользователей оформили на чек дороже 53 904. Границей для определения аномальных заказов следует обозначить до 26 785."
   ]
  },
  {
   "cell_type": "markdown",
   "metadata": {},
   "source": [
    "<div class=\"alert alert-success\">\n",
    "<h2> Комментарий ревьюера 😊<a class=\"tocSkip\"> </h2>\n",
    "\n",
    "Хорошая работа по определению границ аномальных значений)\n"
   ]
  },
  {
   "cell_type": "markdown",
   "metadata": {},
   "source": [
    "Cтатистическая значимость различия в конверсии между группами по \"сырым\" данным.\n",
    "Перед тестом Манна-Уитни проверим гипотезу о нормальном распределении с помощью критерия Шапиро-Уилка:\n",
    "\n",
    "{H0:Конверсии группы A распределены нормально H1:Конверсии группы A не распределены нормально\n",
    " \n",
    "α=5% критический уровень статистической значимости.\n",
    "\n",
    "Аналогично для группы B."
   ]
  },
  {
   "cell_type": "code",
   "execution_count": 69,
   "metadata": {},
   "outputs": [
    {
     "name": "stdout",
     "output_type": "stream",
     "text": [
      "Shapiro-Wilk normality test, W-statistic: 0.132646, p-value: 0.000000\n",
      "Отклонить гипотезу о нормальности распределении группа А\n",
      "Shapiro-Wilk normality test, W-statistic: 0.150587, p-value: 0.000000\n",
      "Отклонить гипотезу о нормальности распределении группа В\n"
     ]
    },
    {
     "name": "stderr",
     "output_type": "stream",
     "text": [
      "/opt/conda/lib/python3.9/site-packages/scipy/stats/_morestats.py:1800: UserWarning: p-value may not be accurate for N > 5000.\n",
      "  warnings.warn(\"p-value may not be accurate for N > 5000.\")\n"
     ]
    }
   ],
   "source": [
    "visitorsADaily = visitors[visitors['group'] == 'A'][['date', 'visitors']]\n",
    "visitorsADaily.columns = ['date', 'visitorsPerDateA']\n",
    "\n",
    "visitorsACummulative = visitorsADaily.apply(\n",
    "    lambda x: visitorsADaily[visitorsADaily['date'] <= x['date']].agg(\n",
    "        {'date': 'max', 'visitorsPerDateA': 'sum'}\n",
    "    ),\n",
    "    axis=1,\n",
    ")\n",
    "visitorsACummulative.columns = ['date', 'visitorsCummulativeA']\n",
    "\n",
    "visitorsBDaily = visitors[visitors['group'] == 'B'][['date', 'visitors']]\n",
    "visitorsBDaily.columns = ['date', 'visitorsPerDateB']\n",
    "\n",
    "visitorsBCummulative = visitorsBDaily.apply(\n",
    "    lambda x: visitorsBDaily[visitorsBDaily['date'] <= x['date']].agg(\n",
    "        {'date': 'max', 'visitorsPerDateB': 'sum'}\n",
    "    ),\n",
    "    axis=1,\n",
    ")\n",
    "visitorsBCummulative.columns = ['date', 'visitorsCummulativeB']\n",
    "\n",
    "ordersADaily = (\n",
    "    orders[orders['group'] == 'A'][['date', 'transactionId', 'visitorId', 'revenue']]\n",
    "    .groupby('date', as_index=False)\n",
    "    .agg({'transactionId': pd.Series.nunique, 'revenue': 'sum'})\n",
    ")\n",
    "ordersADaily.columns = ['date', 'ordersPerDateA', 'revenuePerDateA']\n",
    "\n",
    "ordersACummulative = ordersADaily.apply(\n",
    "    lambda x: ordersADaily[ordersADaily['date'] <= x['date']].agg(\n",
    "        {'date': 'max', 'ordersPerDateA': 'sum', 'revenuePerDateA': 'sum'}\n",
    "    ),\n",
    "    axis=1,\n",
    ").sort_values(by=['date'])\n",
    "ordersACummulative.columns = [\n",
    "    'date',\n",
    "    'ordersCummulativeA',\n",
    "    'revenueCummulativeA',\n",
    "]\n",
    "\n",
    "ordersBDaily = (\n",
    "    orders[orders['group'] == 'B'][['date', 'transactionId', 'visitorId', 'revenue']]\n",
    "    .groupby('date', as_index=False)\n",
    "    .agg({'transactionId': pd.Series.nunique, 'revenue': 'sum'})\n",
    ")\n",
    "ordersBDaily.columns = ['date', 'ordersPerDateB', 'revenuePerDateB']\n",
    "\n",
    "ordersBCummulative = ordersBDaily.apply(\n",
    "    lambda x: ordersBDaily[ordersBDaily['date'] <= x['date']].agg(\n",
    "        {'date': 'max', 'ordersPerDateB': 'sum', 'revenuePerDateB': 'sum'}\n",
    "    ),\n",
    "    axis=1,\n",
    ").sort_values(by=['date'])\n",
    "ordersBCummulative.columns = [\n",
    "    'date',\n",
    "    'ordersCummulativeB',\n",
    "    'revenueCummulativeB',\n",
    "]\n",
    "\n",
    "data = (\n",
    "    ordersADaily.merge(\n",
    "        ordersBDaily, left_on='date', right_on='date', how='left'\n",
    "    )\n",
    "    .merge(ordersACummulative, left_on='date', right_on='date', how='left')\n",
    "    .merge(ordersBCummulative, left_on='date', right_on='date', how='left')\n",
    "    .merge(visitorsADaily, left_on='date', right_on='date', how='left')\n",
    "    .merge(visitorsBDaily, left_on='date', right_on='date', how='left')\n",
    "    .merge(visitorsACummulative, left_on='date', right_on='date', how='left')\n",
    "    .merge(visitorsBCummulative, left_on='date', right_on='date', how='left')\n",
    ")\n",
    "\n",
    "# для пользователей, совершивших хотя бы 1 заказ, будет указано число заказов\n",
    "ordersByUsersA = (\n",
    "    orders[orders['group'] == 'A']\n",
    "    .groupby('visitorId', as_index=False)\n",
    "    .agg({'transactionId': pd.Series.nunique})\n",
    ")\n",
    "ordersByUsersA.columns = ['userId', 'orders']\n",
    "\n",
    "ordersByUsersB = (\n",
    "    orders[orders['group'] == 'B']\n",
    "    .groupby('visitorId', as_index=False)\n",
    "    .agg({'transactionId': pd.Series.nunique})\n",
    ")\n",
    "ordersByUsersB.columns = ['userId', 'orders'] \n",
    "\n",
    "# пользователям с заказами будет соответствовать число заказов пользователя, а пользователям без заказов — нули\n",
    "sampleA = pd.concat([ordersByUsersA['orders'],pd.Series(0, index=np.arange(data['visitorsPerDateA'].sum() - len(ordersByUsersA['orders'])), name='orders')],axis=0)\n",
    "\n",
    "sampleB = pd.concat([ordersByUsersB['orders'],pd.Series(0, index=np.arange(data['visitorsPerDateB'].sum() - len(ordersByUsersB['orders'])), name='orders')],axis=0)\n",
    "\n",
    "# зададим уровень значимости 5%\n",
    "alpha=0.05\n",
    "p=st.shapiro(sampleA)\n",
    "print(\"Shapiro-Wilk normality test, W-statistic: %f, p-value: %f\" % p)\n",
    "if p[1] > alpha:\n",
    "    print('Принять гипотезу о нормальности распределении группа А')\n",
    "else:\n",
    "    print('Отклонить гипотезу о нормальности распределении группа А')\n",
    "    \n",
    "p=st.shapiro(sampleB)\n",
    "print(\"Shapiro-Wilk normality test, W-statistic: %f, p-value: %f\" % p)\n",
    "if p[1] > alpha:\n",
    "    print('Принять гипотезу о нормальности распределении группа В')\n",
    "else:\n",
    "    print('Отклонить гипотезу о нормальности распределении группа В')"
   ]
  },
  {
   "cell_type": "markdown",
   "metadata": {},
   "source": [
    "так данные в обоих группах данные не подходят под нормальное распределение, поэтому воспользуемся U-критерием Манна — Уитни\n",
    "\n",
    "{H0:Конверсии групп A и B равны, статистически значимых отличий нет H1:Конверсии групп A и B различны, статистически значимые отличия есть\n",
    " \n",
    "α=5% критический уровень статистической значимости.\n",
    "\n",
    "Применим тест U-критерий Манна — Уитни"
   ]
  },
  {
   "cell_type": "code",
   "execution_count": 70,
   "metadata": {},
   "outputs": [
    {
     "name": "stdout",
     "output_type": "stream",
     "text": [
      "0.011\n",
      "0.16\n"
     ]
    }
   ],
   "source": [
    "print(\"{0:.3f}\".format(stats.mannwhitneyu(sampleA, sampleB)[1]))\n",
    "\n",
    "print(\"{0:.2f}\".format(sampleB.mean() / sampleA.mean() - 1))"
   ]
  },
  {
   "cell_type": "markdown",
   "metadata": {},
   "source": [
    "Вывод:\n",
    "\n",
    "Первое число — p-value = 0.011 меньше 0.05. Значит, нулевую гипотезу о том, что конверсии равны и статистически значимых различий в конверсии между группами нет отвергаем. Конверсии различаются значимо.\n",
    "Относительный проигрыш группы A составляет 16%"
   ]
  },
  {
   "cell_type": "markdown",
   "metadata": {},
   "source": [
    "<div class=\"alert alert-success\">\n",
    "<h2> Комментарий ревьюера 😊<a class=\"tocSkip\"> </h2>\n",
    "Гипотезы сформулированы верно и значение p-value интерпретировано правильно. Хорошая работа.\n",
    "</div>"
   ]
  },
  {
   "cell_type": "markdown",
   "metadata": {},
   "source": [
    "Статистическая значимость различий в среднем чеке заказа между группами по «сырым» данным.\n",
    "{H0:Средние чеки групп A и B равны, статистически значимых отличий нет H1:Средние чеки групп A и B различны, статистически значимые отличия есть\n",
    " \n",
    "α=5% критический уровень статистической значимости."
   ]
  },
  {
   "cell_type": "code",
   "execution_count": 71,
   "metadata": {},
   "outputs": [
    {
     "name": "stdout",
     "output_type": "stream",
     "text": [
      "0.829\n",
      "0.29\n"
     ]
    }
   ],
   "source": [
    "print('{0:.3f}'.format(stats.mannwhitneyu(orders[orders['group']=='A']['revenue'], orders[orders['group']=='B']['revenue'])[1]))\n",
    "print('{0:.2f}'.format(orders[orders['group']=='B']['revenue'].mean()/orders[orders['group']=='A']['revenue'].mean()-1))"
   ]
  },
  {
   "cell_type": "markdown",
   "metadata": {},
   "source": [
    "Вывод:\n",
    "\n",
    "Первое число — p-value = 0.829 значительно больше 0.05. Значит, нулевую гипотезу о том, что средние чеки равны и статистически значимых различий между группами в размере среднего чека нет принимаем.\n",
    "При этом средний чек группы B значительно выше чем у А, почти на 29%, но тут свою роль могли сыграть выбросы, проверим это далее на очищенных данных"
   ]
  },
  {
   "cell_type": "markdown",
   "metadata": {},
   "source": [
    "<div class=\"alert alert-success\">\n",
    "<h2> Комментарий ревьюера 😊<a class=\"tocSkip\"> </h2>\n",
    "\n",
    "Верно)"
   ]
  },
  {
   "cell_type": "markdown",
   "metadata": {},
   "source": [
    "Статистическая значимость различий в конверсии между группами по «очищенным» данным.\n",
    "Как мы определились ранее, за аномальных пользователей примем тех, кто совершил более 1 заказа или совершил заказ дороже 26 785 рублей. Сделаем срезы пользователей с числом заказов больше 2 — usersWithManyOrders и пользователей, совершивших заказы дороже 26 785 — usersWithExpensiveOrders. Объединим их в таблице abnormalUsers"
   ]
  },
  {
   "cell_type": "code",
   "execution_count": 72,
   "metadata": {},
   "outputs": [
    {
     "name": "stdout",
     "output_type": "stream",
     "text": [
      "568     113298937\n",
      "1099    148427295\n",
      "928     204675465\n",
      "33      249864742\n",
      "684     358944393\n",
      "dtype: int64\n",
      "86\n"
     ]
    }
   ],
   "source": [
    "usersWithManyOrders = pd.concat(\n",
    "    [\n",
    "        ordersByUsersA[ordersByUsersA['orders'] > 1]['userId'],\n",
    "        ordersByUsersB[ordersByUsersB['orders'] > 1]['userId'],\n",
    "    ],\n",
    "    axis=0,\n",
    ")\n",
    "usersWithExpensiveOrders = orders[orders['revenue'] > 26785]['visitorId']\n",
    "abnormalUsers = (\n",
    "    pd.concat([usersWithManyOrders, usersWithExpensiveOrders], axis=0)\n",
    "    .drop_duplicates()\n",
    "    .sort_values()\n",
    ")\n",
    "print(abnormalUsers.head(5))\n",
    "print(abnormalUsers.shape[0])"
   ]
  },
  {
   "cell_type": "markdown",
   "metadata": {},
   "source": [
    "<div class=\"alert alert-warning\">\n",
    "<h2> Комментарий ревьюера 🤓<a class=\"tocSkip\"> </h2>\n",
    "\n",
    "Чтобы в дальнейшем мы могли использовать анализ повторно, будет лучше отказаться от  ручного ввода обозначаемых границ, и заменить на соответствующие коду обозначения (перцентили))\n",
    "\n",
    "</div>"
   ]
  },
  {
   "cell_type": "markdown",
   "metadata": {},
   "source": [
    "Получаем 86 аномальных пользователя, проверим как они повлияли на результат теста.\n",
    "\n",
    "Посчитаем статистическую значимость различий в конверсии между группами теста по очищенным данным. Сначала подготовим выборки количества заказов по пользователям по группам теста:\n",
    "\n",
    "{H0:Конверсии групп A и B равны, статистически значимых отличий нет H1:Конверсии групп A и B различны, статистически значимые отличия есть\n",
    " \n",
    "α=5% критический уровень статистической значимости."
   ]
  },
  {
   "cell_type": "code",
   "execution_count": 73,
   "metadata": {},
   "outputs": [],
   "source": [
    "sampleAFiltered = pd.concat(\n",
    "    [\n",
    "        ordersByUsersA[\n",
    "            np.logical_not(ordersByUsersA['userId'].isin(abnormalUsers))\n",
    "        ]['orders'],\n",
    "        pd.Series(\n",
    "            0,\n",
    "            index=np.arange(\n",
    "                data['visitorsPerDateA'].sum() - len(ordersByUsersA['orders'])\n",
    "            ),\n",
    "            name='orders',\n",
    "        ),\n",
    "    ],\n",
    "    axis=0,\n",
    ")\n",
    "\n",
    "sampleBFiltered = pd.concat(\n",
    "    [\n",
    "        ordersByUsersB[\n",
    "            np.logical_not(ordersByUsersB['userId'].isin(abnormalUsers))\n",
    "        ]['orders'],\n",
    "        pd.Series(\n",
    "            0,\n",
    "            index=np.arange(\n",
    "                data['visitorsPerDateB'].sum() - len(ordersByUsersB['orders'])\n",
    "            ),\n",
    "            name='orders',\n",
    "        ),\n",
    "    ],\n",
    "    axis=0,\n",
    ")"
   ]
  },
  {
   "cell_type": "markdown",
   "metadata": {},
   "source": [
    "Применим тест U-критерий Манна — Уитни"
   ]
  },
  {
   "cell_type": "code",
   "execution_count": 74,
   "metadata": {},
   "outputs": [
    {
     "name": "stdout",
     "output_type": "stream",
     "text": [
      "0.016\n",
      "0.17\n"
     ]
    }
   ],
   "source": [
    "print('{0:.3f}'.format(stats.mannwhitneyu(sampleAFiltered, sampleBFiltered)[1]))\n",
    "print('{0:.2f}'.format(sampleBFiltered.mean()/sampleAFiltered.mean()-1))"
   ]
  },
  {
   "cell_type": "markdown",
   "metadata": {},
   "source": [
    "Вывод:\n",
    "\n",
    "Результаты по конверсии значимо не изменились. p-value стал чуть больше на 0,005, что никак не меняет наших выводов. Проигрыш группы A на очищенных данных немного увеличился 17% против 16% на сырых\n",
    "\n",
    "Cтатистическая значимость различий в среднем чеке заказа между группами по «очищенным» данным\n",
    "{H0:Средние чеки групп A и B равны, статистически значимых отличий нет H1:Средние чеки групп A и B различны, статистически значимые отличия есть\n",
    " \n",
    "α=5% критический уровень статистической значимости."
   ]
  },
  {
   "cell_type": "code",
   "execution_count": 75,
   "metadata": {},
   "outputs": [
    {
     "name": "stdout",
     "output_type": "stream",
     "text": [
      "0.727\n",
      "-0.03\n"
     ]
    }
   ],
   "source": [
    "print(\n",
    "    '{0:.3f}'.format(\n",
    "        stats.mannwhitneyu(\n",
    "            orders[\n",
    "                np.logical_and(\n",
    "                    orders['group'] == 'A',\n",
    "                    np.logical_not(orders['visitorId'].isin(abnormalUsers)),\n",
    "                )\n",
    "            ]['revenue'],\n",
    "            orders[\n",
    "                np.logical_and(\n",
    "                    orders['group'] == 'B',\n",
    "                    np.logical_not(orders['visitorId'].isin(abnormalUsers)),\n",
    "                )\n",
    "            ]['revenue'],\n",
    "        )[1]\n",
    "    )\n",
    ")\n",
    "\n",
    "print(\n",
    "    \"{0:.2f}\".format(\n",
    "        orders[\n",
    "            np.logical_and(\n",
    "                orders['group'] == 'B',\n",
    "                np.logical_not(orders['visitorId'].isin(abnormalUsers)),\n",
    "            )\n",
    "        ]['revenue'].mean()\n",
    "        / orders[\n",
    "            np.logical_and(\n",
    "                orders['group'] == 'A',\n",
    "                np.logical_not(orders['visitorId'].isin(abnormalUsers)),\n",
    "            )\n",
    "        ]['revenue'].mean()\n",
    "        - 1\n",
    "    )\n",
    ")"
   ]
  },
  {
   "cell_type": "markdown",
   "metadata": {},
   "source": [
    "Вывод:\n",
    "\n",
    "p-value уменьшился почти на 0.1, но по прежнему значительно выше 0,05\n",
    "Особенно нужно обратить внимание на разницу между средним чеком. Она упала с 29% в пользу B до 3% в пользу A! Это еще раз заставляет убедиться, что статистически значимых различий по этой метрике между группами нет, а наблюдаемая на неочищенных данных разница как мы и предполагали была связана с выбросами."
   ]
  },
  {
   "cell_type": "markdown",
   "metadata": {},
   "source": [
    "<div class=\"alert alert-success\">\n",
    "<h2> Комментарий ревьюера 😊<a class=\"tocSkip\"> </h2>\n",
    "\n",
    "Статистический анализ проведен верно)"
   ]
  },
  {
   "cell_type": "markdown",
   "metadata": {},
   "source": [
    "Вывод\n",
    "Резюмируем имеющиеся факты:\n",
    "\n",
    "есть статистически значимые различия по конверсии между группами (как по сырым так и по очищенным данным), при этом преимущество у группы B порядка 16-17%;\n",
    "нет статистически значимых различий по среднему чеку между группами (как по сырым так и по очищенным данным);\n",
    "график различия конверсий между группами показывает, что результаты группы B лучше группы A в конце исследования приблизительно на 13-17%, при этом есть тенденция к еще небольшому улучшению;\n",
    "график различий кумулятивного среднего чека говорит нам о преимуществе группы B только из - за выброса, после чего метрика начинает снижаться к более естественному положению\n",
    "Исходя из обнаруженных фактов тест следует остановить и признать его успешным в части улучшения конверсии в целевой группе B В части среднего чека нельзя утверждать, что какая - либо из групп имеет преимущество над другой. Оснований полагать, что при продолжении теста разница между группами в конверсиях либо среднем чеке значимо изменятся нет, т.к. колебания в графиках носят затухающий характер."
   ]
  },
  {
   "cell_type": "markdown",
   "metadata": {},
   "source": [
    "<div class=\"alert alert-success\">\n",
    "<h2> Комментарий ревьюера 😊<a class=\"tocSkip\"> </h2>\n",
    "\n",
    "Правильно)"
   ]
  },
  {
   "cell_type": "markdown",
   "metadata": {},
   "source": [
    "<div style=\"border:solid Purple 2px; padding: 40px\">\n",
    "\n",
    "<h2> Общий комментарий ревьюера 😊 v_2<a class=\"tocSkip\"> </h2>\n",
    "    <br/>\n",
    "Лилия, спасибо за проект! Успехов в дальнейшем обучении!)\n",
    "    "
   ]
  },
  {
   "cell_type": "markdown",
   "metadata": {},
   "source": [
    "<div style=\"border:solid Purple 2px; padding: 40px\">\n",
    "\n",
    "<h2> Общий комментарий ревьюера 😊<a class=\"tocSkip\"> </h2>\n",
    "    <br/>\n",
    "Лилия, ты хорошо поработала по проекту, отлично справилась с расчетами)\n",
    "    \n",
    "Необходимо доработать:\n",
    "    \n",
    "* Указать гипотезы\n",
    "* Дубликаты\n",
    "* Остальные комментарии ты найдешь в работе\n",
    "    \n",
    " \n",
    "**Желаю удачи и жду твой проект на повторное ревью! Если вдруг у тебя возникнут вопросы, то я с радостью отвечу на них.    😊**\n",
    "    \n",
    "![gif](https://i.gifer.com/378.gif)\n",
    "    \n",
    "<br>   \n",
    "             \n",
    "**Дополнительные материалы:**\n",
    " \n",
    "[Вебинары под эгидой Практикума](https://vk.com/yandex.praktikum?w=wall-176471180_2144), \n",
    "    \n",
    "[Лекции Анатолия Карпова 1](https://www.youtube.com/watch?v=jnFVmtaeSA0&list=WL&index=19&t=2s) [2](https://www.youtube.com/watch?v=gljfGAkgX_o&list=WL&index=4)\n",
    "    \n",
    "Материалы [gopractice](https://gopractice.ru/summary/)\n",
    "\n",
    "Лекцию Карта статистических методов [Смотреть видео](https://www.youtube.com/watch?v=-zps6hm0nX8&t=1269s)\n",
    "        \n",
    "</div>"
   ]
  },
  {
   "cell_type": "code",
   "execution_count": null,
   "metadata": {},
   "outputs": [],
   "source": []
  }
 ],
 "metadata": {
  "ExecuteTimeLog": [
   {
    "duration": 1320,
    "start_time": "2023-05-22T15:10:52.847Z"
   },
   {
    "duration": 82,
    "start_time": "2023-05-22T15:10:54.169Z"
   },
   {
    "duration": 10,
    "start_time": "2023-05-22T15:10:54.253Z"
   },
   {
    "duration": 40,
    "start_time": "2023-05-22T15:10:54.266Z"
   },
   {
    "duration": 12,
    "start_time": "2023-05-22T15:10:54.308Z"
   },
   {
    "duration": 75,
    "start_time": "2023-05-22T15:10:54.323Z"
   },
   {
    "duration": 59,
    "start_time": "2023-05-22T15:10:54.400Z"
   },
   {
    "duration": 19,
    "start_time": "2023-05-22T15:10:54.461Z"
   },
   {
    "duration": 67,
    "start_time": "2023-05-22T15:10:54.482Z"
   },
   {
    "duration": 47,
    "start_time": "2023-05-22T15:10:54.552Z"
   },
   {
    "duration": 16,
    "start_time": "2023-05-22T15:10:54.601Z"
   },
   {
    "duration": 8,
    "start_time": "2023-05-22T15:10:54.619Z"
   },
   {
    "duration": 151,
    "start_time": "2023-05-22T15:10:54.629Z"
   },
   {
    "duration": 124,
    "start_time": "2023-05-22T15:10:54.782Z"
   },
   {
    "duration": 10,
    "start_time": "2023-05-22T15:10:54.907Z"
   },
   {
    "duration": 6,
    "start_time": "2023-05-22T15:10:54.918Z"
   },
   {
    "duration": 391,
    "start_time": "2023-05-22T15:10:54.926Z"
   },
   {
    "duration": 390,
    "start_time": "2023-05-22T15:10:55.319Z"
   },
   {
    "duration": 632,
    "start_time": "2023-05-22T15:10:55.711Z"
   },
   {
    "duration": 99,
    "start_time": "2023-05-22T15:10:56.346Z"
   },
   {
    "duration": 0,
    "start_time": "2023-05-22T15:10:56.448Z"
   },
   {
    "duration": 0,
    "start_time": "2023-05-22T15:10:56.450Z"
   },
   {
    "duration": 0,
    "start_time": "2023-05-22T15:10:56.452Z"
   },
   {
    "duration": 0,
    "start_time": "2023-05-22T15:10:56.453Z"
   },
   {
    "duration": 0,
    "start_time": "2023-05-22T15:10:56.455Z"
   },
   {
    "duration": 0,
    "start_time": "2023-05-22T15:10:56.456Z"
   },
   {
    "duration": 0,
    "start_time": "2023-05-22T15:10:56.457Z"
   },
   {
    "duration": 0,
    "start_time": "2023-05-22T15:10:56.459Z"
   },
   {
    "duration": 0,
    "start_time": "2023-05-22T15:10:56.460Z"
   },
   {
    "duration": 0,
    "start_time": "2023-05-22T15:10:56.461Z"
   },
   {
    "duration": 0,
    "start_time": "2023-05-22T15:10:56.463Z"
   },
   {
    "duration": 0,
    "start_time": "2023-05-22T15:10:56.464Z"
   },
   {
    "duration": 0,
    "start_time": "2023-05-22T15:10:56.466Z"
   },
   {
    "duration": 0,
    "start_time": "2023-05-22T15:10:56.467Z"
   },
   {
    "duration": 0,
    "start_time": "2023-05-22T15:10:56.470Z"
   },
   {
    "duration": 0,
    "start_time": "2023-05-22T15:10:56.470Z"
   },
   {
    "duration": 3,
    "start_time": "2023-05-22T15:11:50.656Z"
   },
   {
    "duration": 30,
    "start_time": "2023-05-22T15:11:50.674Z"
   },
   {
    "duration": 3,
    "start_time": "2023-05-22T15:11:50.707Z"
   },
   {
    "duration": 20,
    "start_time": "2023-05-22T15:11:50.712Z"
   },
   {
    "duration": 15,
    "start_time": "2023-05-22T15:11:50.734Z"
   },
   {
    "duration": 53,
    "start_time": "2023-05-22T15:11:50.752Z"
   },
   {
    "duration": 22,
    "start_time": "2023-05-22T15:11:50.807Z"
   },
   {
    "duration": 18,
    "start_time": "2023-05-22T15:11:50.831Z"
   },
   {
    "duration": 18,
    "start_time": "2023-05-22T15:11:50.851Z"
   },
   {
    "duration": 11,
    "start_time": "2023-05-22T15:11:50.870Z"
   },
   {
    "duration": 25,
    "start_time": "2023-05-22T15:11:50.883Z"
   },
   {
    "duration": 7,
    "start_time": "2023-05-22T15:11:50.910Z"
   },
   {
    "duration": 169,
    "start_time": "2023-05-22T15:11:50.920Z"
   },
   {
    "duration": 106,
    "start_time": "2023-05-22T15:11:51.090Z"
   },
   {
    "duration": 16,
    "start_time": "2023-05-22T15:11:51.198Z"
   },
   {
    "duration": 19,
    "start_time": "2023-05-22T15:11:51.216Z"
   },
   {
    "duration": 301,
    "start_time": "2023-05-22T15:11:51.237Z"
   },
   {
    "duration": 297,
    "start_time": "2023-05-22T15:11:51.540Z"
   },
   {
    "duration": 369,
    "start_time": "2023-05-22T15:11:51.839Z"
   },
   {
    "duration": 85,
    "start_time": "2023-05-22T15:11:52.210Z"
   },
   {
    "duration": 0,
    "start_time": "2023-05-22T15:11:52.297Z"
   },
   {
    "duration": 0,
    "start_time": "2023-05-22T15:11:52.298Z"
   },
   {
    "duration": 0,
    "start_time": "2023-05-22T15:11:52.299Z"
   },
   {
    "duration": 0,
    "start_time": "2023-05-22T15:11:52.300Z"
   },
   {
    "duration": 0,
    "start_time": "2023-05-22T15:11:52.301Z"
   },
   {
    "duration": 0,
    "start_time": "2023-05-22T15:11:52.302Z"
   },
   {
    "duration": 0,
    "start_time": "2023-05-22T15:11:52.302Z"
   },
   {
    "duration": 0,
    "start_time": "2023-05-22T15:11:52.303Z"
   },
   {
    "duration": 0,
    "start_time": "2023-05-22T15:11:52.304Z"
   },
   {
    "duration": 0,
    "start_time": "2023-05-22T15:11:52.305Z"
   },
   {
    "duration": 0,
    "start_time": "2023-05-22T15:11:52.306Z"
   },
   {
    "duration": 0,
    "start_time": "2023-05-22T15:11:52.307Z"
   },
   {
    "duration": 0,
    "start_time": "2023-05-22T15:11:52.308Z"
   },
   {
    "duration": 0,
    "start_time": "2023-05-22T15:11:52.308Z"
   },
   {
    "duration": 0,
    "start_time": "2023-05-22T15:11:52.309Z"
   },
   {
    "duration": 0,
    "start_time": "2023-05-22T15:11:52.310Z"
   },
   {
    "duration": 3,
    "start_time": "2023-05-22T15:12:39.696Z"
   },
   {
    "duration": 46,
    "start_time": "2023-05-22T15:12:39.702Z"
   },
   {
    "duration": 3,
    "start_time": "2023-05-22T15:12:39.750Z"
   },
   {
    "duration": 27,
    "start_time": "2023-05-22T15:12:39.756Z"
   },
   {
    "duration": 26,
    "start_time": "2023-05-22T15:12:39.785Z"
   },
   {
    "duration": 44,
    "start_time": "2023-05-22T15:12:39.813Z"
   },
   {
    "duration": 20,
    "start_time": "2023-05-22T15:12:39.858Z"
   },
   {
    "duration": 18,
    "start_time": "2023-05-22T15:12:39.880Z"
   },
   {
    "duration": 12,
    "start_time": "2023-05-22T15:12:39.901Z"
   },
   {
    "duration": 6,
    "start_time": "2023-05-22T15:12:39.915Z"
   },
   {
    "duration": 9,
    "start_time": "2023-05-22T15:12:39.923Z"
   },
   {
    "duration": 6,
    "start_time": "2023-05-22T15:12:39.934Z"
   },
   {
    "duration": 166,
    "start_time": "2023-05-22T15:12:39.941Z"
   },
   {
    "duration": 121,
    "start_time": "2023-05-22T15:12:40.109Z"
   },
   {
    "duration": 8,
    "start_time": "2023-05-22T15:12:40.232Z"
   },
   {
    "duration": 13,
    "start_time": "2023-05-22T15:12:40.242Z"
   },
   {
    "duration": 298,
    "start_time": "2023-05-22T15:12:40.257Z"
   },
   {
    "duration": 309,
    "start_time": "2023-05-22T15:12:40.557Z"
   },
   {
    "duration": 510,
    "start_time": "2023-05-22T15:12:40.868Z"
   },
   {
    "duration": 309,
    "start_time": "2023-05-22T15:12:41.380Z"
   },
   {
    "duration": 441,
    "start_time": "2023-05-22T15:12:41.690Z"
   },
   {
    "duration": 137,
    "start_time": "2023-05-22T15:12:42.133Z"
   },
   {
    "duration": 245,
    "start_time": "2023-05-22T15:12:42.272Z"
   },
   {
    "duration": 89,
    "start_time": "2023-05-22T15:12:42.521Z"
   },
   {
    "duration": 0,
    "start_time": "2023-05-22T15:12:42.612Z"
   },
   {
    "duration": 0,
    "start_time": "2023-05-22T15:12:42.614Z"
   },
   {
    "duration": 0,
    "start_time": "2023-05-22T15:12:42.615Z"
   },
   {
    "duration": 0,
    "start_time": "2023-05-22T15:12:42.616Z"
   },
   {
    "duration": 0,
    "start_time": "2023-05-22T15:12:42.617Z"
   },
   {
    "duration": 0,
    "start_time": "2023-05-22T15:12:42.619Z"
   },
   {
    "duration": 0,
    "start_time": "2023-05-22T15:12:42.620Z"
   },
   {
    "duration": 0,
    "start_time": "2023-05-22T15:12:42.621Z"
   },
   {
    "duration": 0,
    "start_time": "2023-05-22T15:12:42.623Z"
   },
   {
    "duration": 0,
    "start_time": "2023-05-22T15:12:42.624Z"
   },
   {
    "duration": 0,
    "start_time": "2023-05-22T15:12:42.625Z"
   },
   {
    "duration": 3,
    "start_time": "2023-05-22T15:13:20.386Z"
   },
   {
    "duration": 35,
    "start_time": "2023-05-22T15:13:20.392Z"
   },
   {
    "duration": 3,
    "start_time": "2023-05-22T15:13:20.429Z"
   },
   {
    "duration": 15,
    "start_time": "2023-05-22T15:13:20.433Z"
   },
   {
    "duration": 14,
    "start_time": "2023-05-22T15:13:20.450Z"
   },
   {
    "duration": 57,
    "start_time": "2023-05-22T15:13:20.466Z"
   },
   {
    "duration": 19,
    "start_time": "2023-05-22T15:13:20.525Z"
   },
   {
    "duration": 11,
    "start_time": "2023-05-22T15:13:20.546Z"
   },
   {
    "duration": 10,
    "start_time": "2023-05-22T15:13:20.558Z"
   },
   {
    "duration": 5,
    "start_time": "2023-05-22T15:13:20.569Z"
   },
   {
    "duration": 10,
    "start_time": "2023-05-22T15:13:20.575Z"
   },
   {
    "duration": 7,
    "start_time": "2023-05-22T15:13:20.586Z"
   },
   {
    "duration": 158,
    "start_time": "2023-05-22T15:13:20.607Z"
   },
   {
    "duration": 112,
    "start_time": "2023-05-22T15:13:20.767Z"
   },
   {
    "duration": 25,
    "start_time": "2023-05-22T15:13:20.881Z"
   },
   {
    "duration": 6,
    "start_time": "2023-05-22T15:13:20.908Z"
   },
   {
    "duration": 324,
    "start_time": "2023-05-22T15:13:20.916Z"
   },
   {
    "duration": 332,
    "start_time": "2023-05-22T15:13:21.241Z"
   },
   {
    "duration": 419,
    "start_time": "2023-05-22T15:13:21.575Z"
   },
   {
    "duration": 310,
    "start_time": "2023-05-22T15:13:21.996Z"
   },
   {
    "duration": 485,
    "start_time": "2023-05-22T15:13:22.308Z"
   },
   {
    "duration": 133,
    "start_time": "2023-05-22T15:13:22.795Z"
   },
   {
    "duration": 190,
    "start_time": "2023-05-22T15:13:22.929Z"
   },
   {
    "duration": 5,
    "start_time": "2023-05-22T15:13:23.120Z"
   },
   {
    "duration": 23,
    "start_time": "2023-05-22T15:13:23.126Z"
   },
   {
    "duration": 188,
    "start_time": "2023-05-22T15:13:23.150Z"
   },
   {
    "duration": 4,
    "start_time": "2023-05-22T15:13:23.340Z"
   },
   {
    "duration": 409,
    "start_time": "2023-05-22T15:13:23.345Z"
   },
   {
    "duration": 19,
    "start_time": "2023-05-22T15:13:23.756Z"
   },
   {
    "duration": 22,
    "start_time": "2023-05-22T15:13:23.776Z"
   },
   {
    "duration": 17,
    "start_time": "2023-05-22T15:13:23.799Z"
   },
   {
    "duration": 18,
    "start_time": "2023-05-22T15:13:23.817Z"
   },
   {
    "duration": 28,
    "start_time": "2023-05-22T15:13:23.837Z"
   },
   {
    "duration": 18,
    "start_time": "2023-05-22T15:13:23.867Z"
   },
   {
    "duration": 1558,
    "start_time": "2023-05-22T17:15:27.096Z"
   },
   {
    "duration": 87,
    "start_time": "2023-05-22T17:15:28.656Z"
   },
   {
    "duration": 4,
    "start_time": "2023-05-22T17:15:28.749Z"
   },
   {
    "duration": 23,
    "start_time": "2023-05-22T17:15:28.756Z"
   },
   {
    "duration": 14,
    "start_time": "2023-05-22T17:15:28.781Z"
   },
   {
    "duration": 145,
    "start_time": "2023-05-22T17:15:28.797Z"
   },
   {
    "duration": 61,
    "start_time": "2023-05-22T17:15:28.944Z"
   },
   {
    "duration": 15,
    "start_time": "2023-05-22T17:15:29.008Z"
   },
   {
    "duration": 17,
    "start_time": "2023-05-22T17:15:29.025Z"
   },
   {
    "duration": 6,
    "start_time": "2023-05-22T17:15:29.045Z"
   },
   {
    "duration": 16,
    "start_time": "2023-05-22T17:15:29.053Z"
   },
   {
    "duration": 16,
    "start_time": "2023-05-22T17:15:29.072Z"
   },
   {
    "duration": 175,
    "start_time": "2023-05-22T17:15:29.090Z"
   },
   {
    "duration": 143,
    "start_time": "2023-05-22T17:15:29.266Z"
   },
   {
    "duration": 11,
    "start_time": "2023-05-22T17:15:29.411Z"
   },
   {
    "duration": 8,
    "start_time": "2023-05-22T17:15:29.423Z"
   },
   {
    "duration": 444,
    "start_time": "2023-05-22T17:15:29.432Z"
   },
   {
    "duration": 394,
    "start_time": "2023-05-22T17:15:29.879Z"
   },
   {
    "duration": 525,
    "start_time": "2023-05-22T17:15:30.276Z"
   },
   {
    "duration": 380,
    "start_time": "2023-05-22T17:15:30.804Z"
   },
   {
    "duration": 476,
    "start_time": "2023-05-22T17:15:31.186Z"
   },
   {
    "duration": 163,
    "start_time": "2023-05-22T17:15:31.670Z"
   },
   {
    "duration": 242,
    "start_time": "2023-05-22T17:15:31.835Z"
   },
   {
    "duration": 6,
    "start_time": "2023-05-22T17:15:32.079Z"
   },
   {
    "duration": 59,
    "start_time": "2023-05-22T17:15:32.087Z"
   },
   {
    "duration": 256,
    "start_time": "2023-05-22T17:15:32.148Z"
   },
   {
    "duration": 5,
    "start_time": "2023-05-22T17:15:32.406Z"
   },
   {
    "duration": 383,
    "start_time": "2023-05-22T17:15:32.414Z"
   },
   {
    "duration": 24,
    "start_time": "2023-05-22T17:15:32.799Z"
   },
   {
    "duration": 14,
    "start_time": "2023-05-22T17:15:32.825Z"
   },
   {
    "duration": 47,
    "start_time": "2023-05-22T17:15:32.841Z"
   },
   {
    "duration": 38,
    "start_time": "2023-05-22T17:15:32.890Z"
   },
   {
    "duration": 53,
    "start_time": "2023-05-22T17:15:32.930Z"
   },
   {
    "duration": 33,
    "start_time": "2023-05-22T17:15:32.985Z"
   },
   {
    "duration": 286,
    "start_time": "2023-05-23T14:45:02.642Z"
   },
   {
    "duration": 42,
    "start_time": "2023-05-23T14:48:46.123Z"
   },
   {
    "duration": 5,
    "start_time": "2023-05-23T14:50:39.067Z"
   },
   {
    "duration": 1192,
    "start_time": "2023-05-23T14:51:08.451Z"
   },
   {
    "duration": 75,
    "start_time": "2023-05-23T14:51:09.645Z"
   },
   {
    "duration": 5,
    "start_time": "2023-05-23T14:51:09.722Z"
   },
   {
    "duration": 18,
    "start_time": "2023-05-23T14:51:09.730Z"
   },
   {
    "duration": 14,
    "start_time": "2023-05-23T14:51:09.750Z"
   },
   {
    "duration": 85,
    "start_time": "2023-05-23T14:51:09.766Z"
   },
   {
    "duration": 58,
    "start_time": "2023-05-23T14:51:09.853Z"
   },
   {
    "duration": 18,
    "start_time": "2023-05-23T14:51:09.913Z"
   },
   {
    "duration": 16,
    "start_time": "2023-05-23T14:51:09.932Z"
   },
   {
    "duration": 6,
    "start_time": "2023-05-23T14:51:09.950Z"
   },
   {
    "duration": 13,
    "start_time": "2023-05-23T14:51:09.958Z"
   },
   {
    "duration": 5,
    "start_time": "2023-05-23T14:51:09.972Z"
   },
   {
    "duration": 7,
    "start_time": "2023-05-23T14:51:09.979Z"
   },
   {
    "duration": 152,
    "start_time": "2023-05-23T14:51:09.987Z"
   },
   {
    "duration": 114,
    "start_time": "2023-05-23T14:51:10.140Z"
   },
   {
    "duration": 8,
    "start_time": "2023-05-23T14:51:10.256Z"
   },
   {
    "duration": 12,
    "start_time": "2023-05-23T14:51:10.266Z"
   },
   {
    "duration": 370,
    "start_time": "2023-05-23T14:51:10.279Z"
   },
   {
    "duration": 312,
    "start_time": "2023-05-23T14:51:10.651Z"
   },
   {
    "duration": 459,
    "start_time": "2023-05-23T14:51:10.965Z"
   },
   {
    "duration": 314,
    "start_time": "2023-05-23T14:51:11.426Z"
   },
   {
    "duration": 377,
    "start_time": "2023-05-23T14:51:11.742Z"
   },
   {
    "duration": 133,
    "start_time": "2023-05-23T14:51:12.120Z"
   },
   {
    "duration": 198,
    "start_time": "2023-05-23T14:51:12.254Z"
   },
   {
    "duration": 4,
    "start_time": "2023-05-23T14:51:12.454Z"
   },
   {
    "duration": 16,
    "start_time": "2023-05-23T14:51:12.460Z"
   },
   {
    "duration": 206,
    "start_time": "2023-05-23T14:51:12.477Z"
   },
   {
    "duration": 9,
    "start_time": "2023-05-23T14:51:12.686Z"
   },
   {
    "duration": 310,
    "start_time": "2023-05-23T14:51:12.696Z"
   },
   {
    "duration": 21,
    "start_time": "2023-05-23T14:51:13.007Z"
   },
   {
    "duration": 8,
    "start_time": "2023-05-23T14:51:13.030Z"
   },
   {
    "duration": 8,
    "start_time": "2023-05-23T14:51:13.040Z"
   },
   {
    "duration": 11,
    "start_time": "2023-05-23T14:51:13.049Z"
   },
   {
    "duration": 42,
    "start_time": "2023-05-23T14:51:13.061Z"
   },
   {
    "duration": 13,
    "start_time": "2023-05-23T14:51:13.104Z"
   },
   {
    "duration": 5,
    "start_time": "2023-05-23T14:54:25.799Z"
   },
   {
    "duration": 2,
    "start_time": "2023-05-23T15:46:26.316Z"
   },
   {
    "duration": 29,
    "start_time": "2023-05-23T15:46:26.352Z"
   },
   {
    "duration": 3,
    "start_time": "2023-05-23T15:46:26.383Z"
   },
   {
    "duration": 17,
    "start_time": "2023-05-23T15:46:26.387Z"
   },
   {
    "duration": 15,
    "start_time": "2023-05-23T15:46:26.405Z"
   },
   {
    "duration": 50,
    "start_time": "2023-05-23T15:46:26.423Z"
   },
   {
    "duration": 18,
    "start_time": "2023-05-23T15:46:26.475Z"
   },
   {
    "duration": 12,
    "start_time": "2023-05-23T15:46:26.495Z"
   },
   {
    "duration": 11,
    "start_time": "2023-05-23T15:46:26.508Z"
   },
   {
    "duration": 8,
    "start_time": "2023-05-23T15:46:26.520Z"
   },
   {
    "duration": 11,
    "start_time": "2023-05-23T15:46:26.530Z"
   },
   {
    "duration": 7,
    "start_time": "2023-05-23T15:46:26.543Z"
   },
   {
    "duration": 7,
    "start_time": "2023-05-23T15:46:26.551Z"
   },
   {
    "duration": 36,
    "start_time": "2023-05-23T15:46:26.559Z"
   },
   {
    "duration": 155,
    "start_time": "2023-05-23T15:46:26.598Z"
   },
   {
    "duration": 109,
    "start_time": "2023-05-23T15:46:26.754Z"
   },
   {
    "duration": 8,
    "start_time": "2023-05-23T15:46:26.865Z"
   },
   {
    "duration": 9,
    "start_time": "2023-05-23T15:46:26.875Z"
   },
   {
    "duration": 349,
    "start_time": "2023-05-23T15:46:26.885Z"
   },
   {
    "duration": 328,
    "start_time": "2023-05-23T15:46:27.236Z"
   },
   {
    "duration": 409,
    "start_time": "2023-05-23T15:46:27.565Z"
   },
   {
    "duration": 300,
    "start_time": "2023-05-23T15:46:27.976Z"
   },
   {
    "duration": 419,
    "start_time": "2023-05-23T15:46:28.278Z"
   },
   {
    "duration": 125,
    "start_time": "2023-05-23T15:46:28.699Z"
   },
   {
    "duration": 184,
    "start_time": "2023-05-23T15:46:28.825Z"
   },
   {
    "duration": 4,
    "start_time": "2023-05-23T15:46:29.011Z"
   },
   {
    "duration": 14,
    "start_time": "2023-05-23T15:46:29.017Z"
   },
   {
    "duration": 194,
    "start_time": "2023-05-23T15:46:29.032Z"
   },
   {
    "duration": 3,
    "start_time": "2023-05-23T15:46:29.228Z"
   },
   {
    "duration": 327,
    "start_time": "2023-05-23T15:46:29.233Z"
   },
   {
    "duration": 34,
    "start_time": "2023-05-23T15:46:29.561Z"
   },
   {
    "duration": 10,
    "start_time": "2023-05-23T15:46:29.596Z"
   },
   {
    "duration": 9,
    "start_time": "2023-05-23T15:46:29.607Z"
   },
   {
    "duration": 11,
    "start_time": "2023-05-23T15:46:29.617Z"
   },
   {
    "duration": 22,
    "start_time": "2023-05-23T15:46:29.629Z"
   },
   {
    "duration": 12,
    "start_time": "2023-05-23T15:46:29.652Z"
   }
  ],
  "kernelspec": {
   "display_name": "Python 3 (ipykernel)",
   "language": "python",
   "name": "python3"
  },
  "language_info": {
   "codemirror_mode": {
    "name": "ipython",
    "version": 3
   },
   "file_extension": ".py",
   "mimetype": "text/x-python",
   "name": "python",
   "nbconvert_exporter": "python",
   "pygments_lexer": "ipython3",
   "version": "3.9.5"
  },
  "toc": {
   "base_numbering": 1,
   "nav_menu": {},
   "number_sections": true,
   "sideBar": true,
   "skip_h1_title": true,
   "title_cell": "Table of Contents",
   "title_sidebar": "Contents",
   "toc_cell": false,
   "toc_position": {},
   "toc_section_display": true,
   "toc_window_display": false
  }
 },
 "nbformat": 4,
 "nbformat_minor": 2
}
